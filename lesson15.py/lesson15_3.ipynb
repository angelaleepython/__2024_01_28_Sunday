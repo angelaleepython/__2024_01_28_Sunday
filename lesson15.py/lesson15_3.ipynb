{
 "cells": [
  {
   "cell_type": "code",
   "execution_count": 4,
   "metadata": {},
   "outputs": [
    {
     "data": {
      "text/plain": [
       "100"
      ]
     },
     "execution_count": 4,
     "metadata": {},
     "output_type": "execute_result"
    }
   ],
   "source": [
    "import random\n",
    "random.randint(50,100)"
   ]
  },
  {
   "cell_type": "code",
   "execution_count": 8,
   "metadata": {},
   "outputs": [
    {
     "data": {
      "text/plain": [
       "array([[78, 82, 93, 94, 73],\n",
       "       [51, 76, 70, 78, 58],\n",
       "       [93, 55, 54, 81, 64],\n",
       "       [54, 52, 88, 51, 65],\n",
       "       [79, 99, 91, 72, 65],\n",
       "       [96, 77, 84, 54, 60],\n",
       "       [70, 67, 54, 94, 72],\n",
       "       [89, 59, 55, 53, 95],\n",
       "       [96, 61, 50, 76, 72],\n",
       "       [90, 85, 64, 73, 93],\n",
       "       [67, 67, 56, 65, 62],\n",
       "       [72, 73, 91, 55, 77],\n",
       "       [69, 86, 64, 70, 60],\n",
       "       [78, 97, 99, 89, 99],\n",
       "       [62, 72, 98, 85, 58],\n",
       "       [61, 81, 61, 88, 63],\n",
       "       [77, 75, 65, 79, 56],\n",
       "       [94, 84, 68, 81, 61],\n",
       "       [89, 77, 78, 64, 65],\n",
       "       [99, 91, 62, 78, 93],\n",
       "       [97, 76, 70, 56, 63],\n",
       "       [99, 78, 69, 97, 88],\n",
       "       [94, 64, 94, 79, 90],\n",
       "       [61, 69, 93, 75, 92],\n",
       "       [79, 82, 55, 82, 88],\n",
       "       [81, 86, 68, 99, 59],\n",
       "       [78, 60, 78, 93, 76],\n",
       "       [84, 78, 62, 61, 86],\n",
       "       [82, 67, 75, 96, 61],\n",
       "       [78, 51, 50, 76, 65],\n",
       "       [56, 94, 66, 56, 55],\n",
       "       [95, 88, 59, 77, 97],\n",
       "       [68, 63, 89, 78, 88],\n",
       "       [53, 58, 60, 79, 62],\n",
       "       [65, 76, 85, 70, 70],\n",
       "       [92, 96, 64, 78, 63],\n",
       "       [57, 82, 65, 66, 83],\n",
       "       [85, 70, 64, 84, 62],\n",
       "       [73, 53, 75, 67, 84],\n",
       "       [97, 72, 80, 84, 69],\n",
       "       [83, 71, 54, 66, 55],\n",
       "       [67, 80, 66, 85, 51],\n",
       "       [99, 88, 70, 63, 57],\n",
       "       [88, 68, 96, 90, 68],\n",
       "       [89, 50, 97, 89, 79],\n",
       "       [66, 74, 70, 95, 59],\n",
       "       [54, 67, 92, 66, 84],\n",
       "       [63, 67, 99, 81, 56],\n",
       "       [74, 82, 77, 74, 56],\n",
       "       [81, 51, 53, 77, 75]])"
      ]
     },
     "execution_count": 8,
     "metadata": {},
     "output_type": "execute_result"
    }
   ],
   "source": [
    "import numpy as np\n",
    "#50學生,5個分數\n",
    "\n",
    "scores=np.random.randint(50,100,size=(50,5))\n",
    "scores"
   ]
  },
  {
   "cell_type": "code",
   "execution_count": 11,
   "metadata": {},
   "outputs": [
    {
     "data": {
      "text/plain": [
       "array([[78, 82, 93, 94, 73],\n",
       "       [51, 76, 70, 78, 58],\n",
       "       [93, 55, 54, 81, 64]])"
      ]
     },
     "execution_count": 11,
     "metadata": {},
     "output_type": "execute_result"
    }
   ],
   "source": [
    "scores[0:3]"
   ]
  },
  {
   "cell_type": "code",
   "execution_count": 12,
   "metadata": {},
   "outputs": [
    {
     "data": {
      "text/plain": [
       "array([78, 51, 93])"
      ]
     },
     "execution_count": 12,
     "metadata": {},
     "output_type": "execute_result"
    }
   ],
   "source": [
    "scores[0:3,0]"
   ]
  },
  {
   "cell_type": "code",
   "execution_count": 13,
   "metadata": {},
   "outputs": [
    {
     "data": {
      "text/plain": [
       "array([82, 76, 55])"
      ]
     },
     "execution_count": 13,
     "metadata": {},
     "output_type": "execute_result"
    }
   ],
   "source": [
    "scores[0:3,1]"
   ]
  },
  {
   "cell_type": "code",
   "execution_count": 14,
   "metadata": {},
   "outputs": [
    {
     "data": {
      "text/plain": [
       "array([[78, 82, 93, 94, 73],\n",
       "       [51, 76, 70, 78, 58],\n",
       "       [93, 55, 54, 81, 64],\n",
       "       [54, 52, 88, 51, 65],\n",
       "       [79, 99, 91, 72, 65],\n",
       "       [96, 77, 84, 54, 60]])"
      ]
     },
     "execution_count": 14,
     "metadata": {},
     "output_type": "execute_result"
    }
   ],
   "source": [
    "scores[0:6]"
   ]
  },
  {
   "cell_type": "code",
   "execution_count": 15,
   "metadata": {},
   "outputs": [
    {
     "data": {
      "text/plain": [
       "array([93, 70, 54, 88])"
      ]
     },
     "execution_count": 15,
     "metadata": {},
     "output_type": "execute_result"
    }
   ],
   "source": [
    "scores[0:4,2]"
   ]
  },
  {
   "cell_type": "code",
   "execution_count": null,
   "metadata": {},
   "outputs": [],
   "source": []
  }
 ],
 "metadata": {
  "kernelspec": {
   "display_name": "Python 3",
   "language": "python",
   "name": "python3"
  },
  "language_info": {
   "codemirror_mode": {
    "name": "ipython",
    "version": 3
   },
   "file_extension": ".py",
   "mimetype": "text/x-python",
   "name": "python",
   "nbconvert_exporter": "python",
   "pygments_lexer": "ipython3",
   "version": "3.10.13"
  }
 },
 "nbformat": 4,
 "nbformat_minor": 2
}
