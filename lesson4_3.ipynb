{
 "cells": [
  {
   "cell_type": "code",
   "execution_count": 1,
   "metadata": {},
   "outputs": [
    {
     "data": {
      "text/plain": [
       "True"
      ]
     },
     "execution_count": 1,
     "metadata": {},
     "output_type": "execute_result"
    }
   ],
   "source": [
    "#比較運算子\n",
    "5>3"
   ]
  },
  {
   "cell_type": "code",
   "execution_count": 2,
   "metadata": {},
   "outputs": [
    {
     "data": {
      "text/plain": [
       "False"
      ]
     },
     "execution_count": 2,
     "metadata": {},
     "output_type": "execute_result"
    }
   ],
   "source": [
    "5<3"
   ]
  },
  {
   "cell_type": "code",
   "execution_count": 3,
   "metadata": {},
   "outputs": [
    {
     "data": {
      "text/plain": [
       "True"
      ]
     },
     "execution_count": 3,
     "metadata": {},
     "output_type": "execute_result"
    }
   ],
   "source": [
    "5==5"
   ]
  },
  {
   "cell_type": "code",
   "execution_count": 6,
   "metadata": {},
   "outputs": [
    {
     "data": {
      "text/plain": [
       "True"
      ]
     },
     "execution_count": 6,
     "metadata": {},
     "output_type": "execute_result"
    }
   ],
   "source": [
    "4<=4"
   ]
  },
  {
   "cell_type": "code",
   "execution_count": 4,
   "metadata": {},
   "outputs": [
    {
     "data": {
      "text/plain": [
       "False"
      ]
     },
     "execution_count": 4,
     "metadata": {},
     "output_type": "execute_result"
    }
   ],
   "source": [
    "5!=5"
   ]
  },
  {
   "cell_type": "code",
   "execution_count": 7,
   "metadata": {},
   "outputs": [
    {
     "data": {
      "text/plain": [
       "True"
      ]
     },
     "execution_count": 7,
     "metadata": {},
     "output_type": "execute_result"
    }
   ],
   "source": [
    "1080==1080"
   ]
  },
  {
   "cell_type": "code",
   "execution_count": 8,
   "metadata": {},
   "outputs": [
    {
     "data": {
      "text/plain": [
       "False"
      ]
     },
     "execution_count": 8,
     "metadata": {},
     "output_type": "execute_result"
    }
   ],
   "source": [
    "1080!=1080"
   ]
  },
  {
   "cell_type": "code",
   "execution_count": 9,
   "metadata": {},
   "outputs": [
    {
     "name": "stdout",
     "output_type": "stream",
     "text": [
      "程式開始\n",
      "5>3\n",
      "5大於3\n",
      "程式結束\n"
     ]
    }
   ],
   "source": [
    "print(\"程式開始\")\n",
    "#單向選擇,true的程式區塊有可能執行，也可能不執行\n",
    "if 5>3:\n",
    "    print(\"5>3\")\n",
    "    print(\"5大於3\")\n",
    "\n",
    "print(\"程式結束\")"
   ]
  },
  {
   "cell_type": "code",
   "execution_count": 11,
   "metadata": {},
   "outputs": [
    {
     "name": "stdout",
     "output_type": "stream",
     "text": [
      "程式開始\n",
      "失敗\n",
      "程式結束\n"
     ]
    }
   ],
   "source": [
    "print(\"程式開始\")\n",
    "#雙項選擇,2個程式區塊一定執行其中一個\n",
    "if 3>3:\n",
    "    print(\"3>3\")\n",
    "    print(\"3大於3\")\n",
    "else:\n",
    "    #false的程式區塊\n",
    "    print(\"失敗\")\n",
    "\n",
    "\n",
    "print(\"程式結束\")"
   ]
  },
  {
   "cell_type": "code",
   "execution_count": 21,
   "metadata": {},
   "outputs": [
    {
     "name": "stdout",
     "output_type": "stream",
     "text": [
      "學生總分為299\n"
     ]
    }
   ],
   "source": [
    "scores:int=int(input(\"請輸入學生分數(最高300分):\"))\n",
    "is_add:str=input(\"學生否符合加分條件?(y/n):\")\n",
    "\n",
    "if is_add==\"y\":\n",
    "    scores*=1.05\n",
    "    if scores>300:\n",
    "        scores=300\n",
    "\n",
    "print(f\"學生總分為{scores:.0f}\")"
   ]
  },
  {
   "cell_type": "code",
   "execution_count": 7,
   "metadata": {},
   "outputs": [
    {
     "name": "stdout",
     "output_type": "stream",
     "text": [
      "程式開始\n",
      "2.它是熊\n",
      "程式結束\n",
      "程式開始\n",
      "4.人類或沒有毛的熊\n",
      "程式結束\n"
     ]
    }
   ],
   "source": [
    "#1.如果動物是有毛,是小的輸出(它是貓)\n",
    "#2.如果動物是有毛,是大的輸出(它是熊)\n",
    "#3.如果動物是沒有毛,是小的輸出(它是小蜥蜴)\n",
    "#4.如果動物是沒有毛,是大的輸出(它是人類或沒有毛的熊)\n",
    "\n",
    "furry:str(input(\"如果動物是有毛?(y/n):\"))\n",
    "is_add:str=input(\"是小的?(y/n):\")\n",
    "print(\"程式開始\")\n",
    "#雙項選擇,2個程式區塊一定執行其中一個\n",
    "if is_add==\"y\":\n",
    "    print(\"1.它是貓\")\n",
    "   \n",
    "else:\n",
    "    #false的程式區塊\n",
    "    print(\"2.它是熊\")\n",
    "    \n",
    "print(\"程式結束\")\n",
    "\n",
    "print(\"程式開始\")\n",
    "furry:str(input(\"如果動物是有毛?(y/n):\"))\n",
    "is_add:str=input(\"是小的?(y/n):\")\n",
    "\n",
    "if is_add==\"y\":\n",
    "       print(\"3.它是小蜥蜴\")\n",
    "else:\n",
    "     print(\"4.人類或沒有毛的熊\")\n",
    "\n",
    "print(\"程式結束\")\n"
   ]
  },
  {
   "cell_type": "code",
   "execution_count": 24,
   "metadata": {},
   "outputs": [
    {
     "name": "stdout",
     "output_type": "stream",
     "text": [
      "它是人類或沒有毛的熊\n"
     ]
    }
   ],
   "source": [
    "is_furry:str = input(\"請問動物有毛嗎?(y,n)\")\n",
    "is_small:str = input(\"請問動物是小的嗎?(y,n)\")\n",
    "\n",
    "\n",
    "if is_furry == 'y':\n",
    "    if is_small == 'y':print('它是貓')\n",
    "    else:print('它是熊')\n",
    "\n",
    "else:\n",
    "    if is_small == 'y':print('它是小蜥蜴')\n",
    "    else:print('它是人類或沒有毛的熊')  "
   ]
  },
  {
   "cell_type": "code",
   "execution_count": 28,
   "metadata": {},
   "outputs": [
    {
     "name": "stdout",
     "output_type": "stream",
     "text": [
      "它是人類或沒有毛的熊\n"
     ]
    }
   ],
   "source": [
    "#判斷動物\n",
    "#如果動物是有毛,是小的輸出(它是貓)\n",
    "#如果動物是有毛,是大的輸出(它是熊)\n",
    "#如果動物是沒有毛,是小的輸出(它是小蜥蜴)\n",
    "#如果動物是沒有毛,是大的輸出(它是人類或沒有毛的熊)\n",
    "\n",
    "is_furry:str = input(\"請問動物有毛嗎?(y,n)\")\n",
    "is_small:str = input(\"請問動物是小的嗎?(y,n)\")\n",
    "\n",
    "if is_furry == 'y':\n",
    "    if is_small == 'y':print('它是貓')\n",
    "    else:print('它是熊')\n",
    "\n",
    "else:\n",
    "    if is_small == 'y':print('它是小蜥蜴')\n",
    "    else:print('它是人類或沒有毛的熊')  "
   ]
  }
 ],
 "metadata": {
  "kernelspec": {
   "display_name": "Python 3",
   "language": "python",
   "name": "python3"
  },
  "language_info": {
   "codemirror_mode": {
    "name": "ipython",
    "version": 3
   },
   "file_extension": ".py",
   "mimetype": "text/x-python",
   "name": "python",
   "nbconvert_exporter": "python",
   "pygments_lexer": "ipython3",
   "version": "3.10.13"
  }
 },
 "nbformat": 4,
 "nbformat_minor": 2
}
