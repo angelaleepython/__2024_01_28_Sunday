{
 "cells": [
  {
   "cell_type": "code",
   "execution_count": 2,
   "metadata": {},
   "outputs": [
    {
     "ename": "AttributeError",
     "evalue": "module 'math' has no attribute 'degree'",
     "output_type": "error",
     "traceback": [
      "\u001b[0;31m---------------------------------------------------------------------------\u001b[0m",
      "\u001b[0;31mAttributeError\u001b[0m                            Traceback (most recent call last)",
      "Cell \u001b[0;32mIn[2], line 5\u001b[0m\n\u001b[1;32m      3\u001b[0m side2\u001b[38;5;241m=\u001b[39m\u001b[38;5;28meval\u001b[39m(\u001b[38;5;28minput\u001b[39m(\u001b[38;5;124m\"\u001b[39m\u001b[38;5;124m請輸入直角三角形的對邊\u001b[39m\u001b[38;5;124m\"\u001b[39m))\n\u001b[1;32m      4\u001b[0m radian\u001b[38;5;241m=\u001b[39mmath\u001b[38;5;241m.\u001b[39masin(side2\u001b[38;5;241m/\u001b[39mside1)\n\u001b[0;32m----> 5\u001b[0m degree\u001b[38;5;241m=\u001b[39m\u001b[43mmath\u001b[49m\u001b[38;5;241;43m.\u001b[39;49m\u001b[43mdegree\u001b[49m(side2\u001b[38;5;241m/\u001b[39mside1)\n\u001b[1;32m      7\u001b[0m \u001b[38;5;28mprint\u001b[39m(\u001b[38;5;124mf\u001b[39m\u001b[38;5;124m\"\u001b[39m\u001b[38;5;124m斜邊:\u001b[39m\u001b[38;5;132;01m{\u001b[39;00mside1\u001b[38;5;132;01m}\u001b[39;00m\u001b[38;5;124m,對邊:\u001b[39m\u001b[38;5;132;01m{\u001b[39;00mside2\u001b[38;5;132;01m}\u001b[39;00m\u001b[38;5;124m\"\u001b[39m)\n\u001b[1;32m      8\u001b[0m \u001b[38;5;28mprint\u001b[39m(\u001b[38;5;124mf\u001b[39m\u001b[38;5;124m\"\u001b[39m\u001b[38;5;124m角度是\u001b[39m\u001b[38;5;132;01m{\u001b[39;00mdegree\u001b[38;5;132;01m:\u001b[39;00m\u001b[38;5;124m.2f\u001b[39m\u001b[38;5;132;01m}\u001b[39;00m\u001b[38;5;124m\"\u001b[39m)\n",
      "\u001b[0;31mAttributeError\u001b[0m: module 'math' has no attribute 'degree'"
     ]
    }
   ],
   "source": [
    "import math\n",
    "side1=eval(input(\"請輸入直角三角形的斜邊\"))\n",
    "side2=eval(input(\"請輸入直角三角形的對邊\"))\n",
    "radian=math.asin(side2/side1)\n",
    "degree=math.degree(side2/side1)\n",
    "\n",
    "print(f\"斜邊:{side1},對邊:{side2}\")\n",
    "print(f\"角度是{degree:.2f}\")"
   ]
  },
  {
   "cell_type": "code",
   "execution_count": 1,
   "metadata": {},
   "outputs": [
    {
     "ename": "AttributeError",
     "evalue": "module 'math' has no attribute 'degree'",
     "output_type": "error",
     "traceback": [
      "\u001b[0;31m---------------------------------------------------------------------------\u001b[0m",
      "\u001b[0;31mAttributeError\u001b[0m                            Traceback (most recent call last)",
      "Cell \u001b[0;32mIn[1], line 5\u001b[0m\n\u001b[1;32m      3\u001b[0m side2\u001b[38;5;241m=\u001b[39m\u001b[38;5;28meval\u001b[39m(\u001b[38;5;28minput\u001b[39m(\u001b[38;5;124m\"\u001b[39m\u001b[38;5;124m請輸入直角三角形的對邊\u001b[39m\u001b[38;5;124m\"\u001b[39m))\n\u001b[1;32m      4\u001b[0m radian\u001b[38;5;241m=\u001b[39mmath\u001b[38;5;241m.\u001b[39masin(side2\u001b[38;5;241m/\u001b[39mside1)\n\u001b[0;32m----> 5\u001b[0m degree\u001b[38;5;241m=\u001b[39m\u001b[43mmath\u001b[49m\u001b[38;5;241;43m.\u001b[39;49m\u001b[43mdegree\u001b[49m(radian)\n\u001b[1;32m      7\u001b[0m \u001b[38;5;28mprint\u001b[39m(\u001b[38;5;124mf\u001b[39m\u001b[38;5;124m\"\u001b[39m\u001b[38;5;124m斜邊:\u001b[39m\u001b[38;5;132;01m{\u001b[39;00mside1\u001b[38;5;132;01m}\u001b[39;00m\u001b[38;5;124m,對邊:\u001b[39m\u001b[38;5;132;01m{\u001b[39;00mside2\u001b[38;5;132;01m}\u001b[39;00m\u001b[38;5;124m\"\u001b[39m)\n\u001b[1;32m      8\u001b[0m \u001b[38;5;28mprint\u001b[39m(\u001b[38;5;124mf\u001b[39m\u001b[38;5;124m\"\u001b[39m\u001b[38;5;124m角度是\u001b[39m\u001b[38;5;132;01m{\u001b[39;00mdegree\u001b[38;5;132;01m:\u001b[39;00m\u001b[38;5;124m.2f\u001b[39m\u001b[38;5;132;01m}\u001b[39;00m\u001b[38;5;124m\"\u001b[39m)\n",
      "\u001b[0;31mAttributeError\u001b[0m: module 'math' has no attribute 'degree'"
     ]
    }
   ],
   "source": [
    "import math\n",
    "side1=eval(input(\"請輸入直角三角形的斜邊\"))\n",
    "side2=eval(input(\"請輸入直角三角形的對邊\"))\n",
    "radian=math.asin(side2/side1)\n",
    "degree=math.degree(radian)\n",
    "\n",
    "print(f\"斜邊:{side1},對邊:{side2}\")\n",
    "print(f\"角度是{degree:.2f}\")"
   ]
  },
  {
   "cell_type": "code",
   "execution_count": 12,
   "metadata": {},
   "outputs": [
    {
     "name": "stdout",
     "output_type": "stream",
     "text": [
      "1,3,5,7,9,11, 57, 100的平均是24.125\n"
     ]
    }
   ],
   "source": [
    "import statistics\n",
    "#[1,3,5,7,9]\n",
    "#平均\n",
    "#中間數\n",
    "#標準差\n",
    "mean_value=statistics.mean([1,3,5,7,9,11,57,100])\n",
    "print(f'1,3,5,7,9,11, 57, 100的平均是{mean_value}')"
   ]
  },
  {
   "cell_type": "code",
   "execution_count": 14,
   "metadata": {},
   "outputs": [
    {
     "name": "stdout",
     "output_type": "stream",
     "text": [
      "1,3,5,7,9,11,57,100的中間值是8.0\n"
     ]
    }
   ],
   "source": [
    "median_value=statistics.median([1,3,5,7,9,11,57,100])\n",
    "print(f'1,3,5,7,9,11,57,100的中間值是{median_value}')"
   ]
  },
  {
   "cell_type": "code",
   "execution_count": 16,
   "metadata": {},
   "outputs": [
    {
     "name": "stdout",
     "output_type": "stream",
     "text": [
      "1,3,5,7,9,11,57,100的標準差35.61475416573466\n"
     ]
    }
   ],
   "source": [
    "std_value=statistics.stdev([1,3,5,7,9,11,57,100])\n",
    "print(f'1,3,5,7,9,11,57,100的標準差{std_value}')"
   ]
  },
  {
   "cell_type": "code",
   "execution_count": 19,
   "metadata": {},
   "outputs": [
    {
     "data": {
      "text/plain": [
       "10"
      ]
     },
     "execution_count": 19,
     "metadata": {},
     "output_type": "execute_result"
    }
   ],
   "source": [
    "n=5\n",
    "n=n+5\n",
    "n"
   ]
  },
  {
   "cell_type": "code",
   "execution_count": null,
   "metadata": {},
   "outputs": [],
   "source": []
  }
 ],
 "metadata": {
  "kernelspec": {
   "display_name": "Python 3",
   "language": "python",
   "name": "python3"
  },
  "language_info": {
   "codemirror_mode": {
    "name": "ipython",
    "version": 3
   },
   "file_extension": ".py",
   "mimetype": "text/x-python",
   "name": "python",
   "nbconvert_exporter": "python",
   "pygments_lexer": "ipython3",
   "version": "3.10.13"
  }
 },
 "nbformat": 4,
 "nbformat_minor": 2
}
