{
 "cells": [
  {
   "cell_type": "code",
   "execution_count": 7,
   "metadata": {},
   "outputs": [
    {
     "name": "stdout",
     "output_type": "stream",
     "text": [
      "7\n",
      "8\n",
      "9\n",
      "10\n",
      "編號0:7\n",
      "編號1:8\n",
      "編號2:9\n",
      "編號3:10\n"
     ]
    }
   ],
   "source": [
    "#list內容可以更改(可變變數)\n",
    "#sequence\n",
    "#iterable\n",
    "\n",
    "L1=[7,8,9,10]\n",
    "for i in L1:\n",
    "    print (i)\n",
    "\n",
    "print(f'編號0:{L1[0]}')\n",
    "print(f'編號1:{L1[1]}')\n",
    "print(f'編號2:{L1[2]}')\n",
    "print(f'編號3:{L1[3]}')"
   ]
  },
  {
   "cell_type": "code",
   "execution_count": 8,
   "metadata": {},
   "outputs": [],
   "source": [
    "#list\n",
    "#type hint->list[int]\n",
    "\n",
    "empty_list:list[int]=[]\n",
    "empty_list:list[str]=list()\n",
    "weekday:list[str]=[]\n"
   ]
  },
  {
   "cell_type": "code",
   "execution_count": 9,
   "metadata": {},
   "outputs": [],
   "source": [
    "for index,value in enumerate(weekday):\n",
    "    print(f'索引編號:{index},值是:{value}')"
   ]
  },
  {
   "cell_type": "code",
   "execution_count": 12,
   "metadata": {},
   "outputs": [],
   "source": [
    "#list\n",
    "#type hint -> list[int]\n",
    "empty_list:list[int] = []\n",
    "empty_list:list[str] = list()\n",
    "weekday: list[str] = ['星期一', '星期二', '星期三', '星期四', '星期五', '星期六', '星期日']\n",
    "big_birds: list[str] = ['emu', 'ostrich', 'cassowary']"
   ]
  },
  {
   "cell_type": "code",
   "execution_count": 13,
   "metadata": {},
   "outputs": [
    {
     "name": "stdout",
     "output_type": "stream",
     "text": [
      "索引編號:0,值是:星期一\n",
      "索引編號:1,值是:星期二\n",
      "索引編號:2,值是:星期三\n",
      "索引編號:3,值是:星期四\n",
      "索引編號:4,值是:星期五\n",
      "索引編號:5,值是:星期六\n",
      "索引編號:6,值是:星期日\n"
     ]
    }
   ],
   "source": [
    "#傳出tuple\n",
    "#使用拆解法\n",
    "for index,value in enumerate(weekday):\n",
    "    print(f'索引編號:{index},值是:{value}')"
   ]
  },
  {
   "cell_type": "code",
   "execution_count": 14,
   "metadata": {},
   "outputs": [
    {
     "name": "stdout",
     "output_type": "stream",
     "text": [
      "['H', 'e', 'l', 'l', 'o', ',', 'W', 'o', 'r', 'l', 'd']\n"
     ]
    }
   ],
   "source": [
    "#Sequence\n",
    "#iterable\n",
    "#不可變變數\n",
    "\"Hello.World\"\n",
    "list1=list(\"Hello,World\")\n",
    "print (list1)"
   ]
  },
  {
   "cell_type": "code",
   "execution_count": 16,
   "metadata": {},
   "outputs": [
    {
     "data": {
      "text/plain": [
       "'d'"
      ]
     },
     "execution_count": 16,
     "metadata": {},
     "output_type": "execute_result"
    }
   ],
   "source": [
    "#索引編號取出值,subscript[索引編號]\n",
    "list1[0]#取出第一個\n",
    "list1[-1]#取出第一個"
   ]
  },
  {
   "cell_type": "code",
   "execution_count": 20,
   "metadata": {},
   "outputs": [
    {
     "data": {
      "text/plain": [
       "['W', 'o', 'r', 'l']"
      ]
     },
     "execution_count": 20,
     "metadata": {},
     "output_type": "execute_result"
    }
   ],
   "source": [
    "#subscript[前面編號:後面編號] slice\n",
    "list1[0:5]\n",
    "list1[-5:-1] #-1最後一個不包含"
   ]
  },
  {
   "cell_type": "code",
   "execution_count": 24,
   "metadata": {},
   "outputs": [
    {
     "name": "stdout",
     "output_type": "stream",
     "text": [
      "['H', 'e', 'l', 'l', 'o']\n",
      "['W', 'o', 'r', 'l', 'd']\n"
     ]
    }
   ],
   "source": [
    "#subscript[前面編號:後面編號]\n",
    "print(list1[:5]) #前面不寫代表最前面,前5個\n",
    "print(list1[-5:]) #後面不寫,代表的是最後(包含),後5個"
   ]
  },
  {
   "cell_type": "code",
   "execution_count": 25,
   "metadata": {},
   "outputs": [
    {
     "name": "stdout",
     "output_type": "stream",
     "text": [
      "[['筆記電腦', '商用筆電'], ['apple', 'asus'], ['冰箱', '洗衣機']]\n"
     ]
    }
   ],
   "source": [
    "from pprint import pprint\n",
    "\n",
    "nb=[\"筆記電腦\",\"商用筆電\"]\n",
    "mobile=[\"apple\",\"asus\"]\n",
    "home=[\"冰箱\",\"洗衣機\"]\n",
    "\n",
    "all3c=[nb,mobile,home]\n",
    "pprint(all3c)"
   ]
  },
  {
   "cell_type": "code",
   "execution_count": 26,
   "metadata": {},
   "outputs": [
    {
     "data": {
      "text/plain": [
       "[['筆記電腦', '商用筆電'], ['apple', 'asus'], ['冰箱', '洗衣機']]"
      ]
     },
     "execution_count": 26,
     "metadata": {},
     "output_type": "execute_result"
    }
   ],
   "source": [
    "#使用list實體方法,append() (參考說明書list)\n",
    "all3c:list[list[str]]=[]\n",
    "all3c.append(nb)\n",
    "all3c.append(mobile)\n",
    "all3c.append(home)\n",
    "all3c"
   ]
  },
  {
   "cell_type": "code",
   "execution_count": 27,
   "metadata": {},
   "outputs": [
    {
     "name": "stdout",
     "output_type": "stream",
     "text": [
      "[['筆記電腦', '商用筆電'], ['apple', 'asus'], ['冰箱', '洗衣機']]\n"
     ]
    }
   ],
   "source": [
    "from pprint import pprint\n",
    "\n",
    "nb:list[str]=[\"筆記電腦\",\"商用筆電\"]\n",
    "mobile:list[str]=[\"apple\",\"asus\"]\n",
    "home:list[str]=[\"冰箱\",\"洗衣機\"]\n",
    "\n",
    "all3c=[nb,mobile,home]\n",
    "pprint(all3c)"
   ]
  },
  {
   "cell_type": "code",
   "execution_count": 29,
   "metadata": {},
   "outputs": [
    {
     "data": {
      "text/plain": [
       "[['冰箱', '洗衣機'], ['apple', 'asus'], ['筆記電腦', '商用筆電']]"
      ]
     },
     "execution_count": 29,
     "metadata": {},
     "output_type": "execute_result"
    }
   ],
   "source": [
    "all3c:list[list[str]]=[]\n",
    "all3c.append(nb)\n",
    "all3c.append(mobile)\n",
    "all3c.append(home)\n",
    "all3c.reverse()\n",
    "all3c\n"
   ]
  }
 ],
 "metadata": {
  "kernelspec": {
   "display_name": "Python 3",
   "language": "python",
   "name": "python3"
  },
  "language_info": {
   "codemirror_mode": {
    "name": "ipython",
    "version": 3
   },
   "file_extension": ".py",
   "mimetype": "text/x-python",
   "name": "python",
   "nbconvert_exporter": "python",
   "pygments_lexer": "ipython3",
   "version": "3.10.13"
  }
 },
 "nbformat": 4,
 "nbformat_minor": 2
}
