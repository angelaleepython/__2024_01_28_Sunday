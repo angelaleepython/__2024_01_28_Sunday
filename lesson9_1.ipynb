{
 "cells": [
  {
   "cell_type": "code",
   "execution_count": 1,
   "metadata": {},
   "outputs": [
    {
     "name": "stdout",
     "output_type": "stream",
     "text": [
      "----BMI計算程式開始----\n",
      "\n"
     ]
    },
    {
     "name": "stdout",
     "output_type": "stream",
     "text": [
      "輸入格式有錯誤\n",
      "請問您還要繼續測量BMI嗎?\n",
      "1. yes\n",
      "2. no\n",
      "'165' is not a valid choice.\n",
      "請問您還要繼續測量BMI嗎?\n",
      "1. yes\n",
      "2. no\n",
      "'90' is not a valid choice.\n",
      "請問您還要繼續測量BMI嗎?\n",
      "1. yes\n",
      "2. no\n",
      "----BMI計算程式開始----\n",
      "\n",
      "身高或體重超出範圍\n",
      "請問您還要繼續測量BMI嗎?\n",
      "1. yes\n",
      "2. no\n",
      "'80' is not a valid choice.\n",
      "請問您還要繼續測量BMI嗎?\n",
      "1. yes\n",
      "2. no\n",
      "----BMI計算程式結束----\n",
      "\n"
     ]
    }
   ],
   "source": [
    "import pyinputplus as pyip\n",
    "\n",
    "def getSuggestion(bmi:float) -> str:\n",
    "    print(f'您的BMI值為:{bmi:.2f}')\n",
    "    if bmi<18.5:\n",
    "        message = '您的體重:體重過輕'\n",
    "    elif bmi<24:\n",
    "        message = '您的體重:正常'\n",
    "    elif bmi<27:\n",
    "        message = '您的體重:過重'\n",
    "    elif bmi<30:\n",
    "        message = '您的體重:輕度肥胖'\n",
    "    elif bmi<35:\n",
    "        message = '您的體重:中度肥胖'\n",
    "    else:\n",
    "        message = '您的體重:重度肥胖'\n",
    "\n",
    "    return message\n",
    "\n",
    "while(True):\n",
    "    print(\"----BMI計算程式開始----\\n\")\n",
    "    try:\n",
    "        height = eval(input('請輸入身高(公分,120-250):'))\n",
    "        weight = eval(input('請輸入體重(公斤,30-250):'))\n",
    "        if (height >= 120 and height<=250) and (weight >=30 and weight <=250) :\n",
    "            bmi = weight/(height/100)**2\n",
    "            print(getSuggestion(bmi))\n",
    "        else :\n",
    "            print('身高或體重超出範圍')\n",
    "    except:\n",
    "        print('輸入格式有錯誤')\n",
    "    \n",
    "    menu_value = pyip.inputMenu([\"yes\",\"no\"],prompt=\"請問您還要繼續測量BMI嗎?\\n\",numbered=True)\n",
    "    if menu_value == 'no':\n",
    "        print(\"----BMI計算程式結束----\\n\")\n",
    "        break"
   ]
  },
  {
   "cell_type": "code",
   "execution_count": 7,
   "metadata": {},
   "outputs": [
    {
     "name": "stdout",
     "output_type": "stream",
     "text": [
      "7\n",
      "8\n",
      "9\n",
      "10\n",
      "編號0:7\n",
      "編號1:8\n",
      "編號2:9\n",
      "編號3:10\n"
     ]
    }
   ],
   "source": [
    "#list內容可以更改(可變變數)\n",
    "#sequence\n",
    "#iterable\n",
    "\n",
    "L1=[7,8,9,10]\n",
    "for i in L1:\n",
    "    print (i)\n",
    "\n",
    "print(f'編號0:{L1[0]}')\n",
    "print(f'編號1:{L1[1]}')\n",
    "print(f'編號2:{L1[2]}')\n",
    "print(f'編號3:{L1[3]}')"
   ]
  },
  {
   "cell_type": "code",
   "execution_count": 8,
   "metadata": {},
   "outputs": [],
   "source": [
    "#list\n",
    "#type hint->list[int]\n",
    "\n",
    "empty_list:list[int]=[]\n",
    "empty_list:list[str]=list()\n",
    "weekday:list[str]=[]\n"
   ]
  },
  {
   "cell_type": "code",
   "execution_count": 9,
   "metadata": {},
   "outputs": [],
   "source": [
    "for index,value in enumerate(weekday):\n",
    "    print(f'索引編號:{index},值是:{value}')"
   ]
  },
  {
   "cell_type": "code",
   "execution_count": 12,
   "metadata": {},
   "outputs": [],
   "source": [
    "#list\n",
    "#type hint -> list[int]\n",
    "empty_list:list[int] = []\n",
    "empty_list:list[str] = list()\n",
    "weekday: list[str] = ['星期一', '星期二', '星期三', '星期四', '星期五', '星期六', '星期日']\n",
    "big_birds: list[str] = ['emu', 'ostrich', 'cassowary']"
   ]
  },
  {
   "cell_type": "code",
   "execution_count": 13,
   "metadata": {},
   "outputs": [
    {
     "name": "stdout",
     "output_type": "stream",
     "text": [
      "索引編號:0,值是:星期一\n",
      "索引編號:1,值是:星期二\n",
      "索引編號:2,值是:星期三\n",
      "索引編號:3,值是:星期四\n",
      "索引編號:4,值是:星期五\n",
      "索引編號:5,值是:星期六\n",
      "索引編號:6,值是:星期日\n"
     ]
    }
   ],
   "source": [
    "#傳出tuple\n",
    "#使用拆解法\n",
    "for index,value in enumerate(weekday):\n",
    "    print(f'索引編號:{index},值是:{value}')"
   ]
  },
  {
   "cell_type": "code",
   "execution_count": null,
   "metadata": {},
   "outputs": [],
   "source": [
    "empty_list:list(str)=list()\n",
    "weekday: list[str]=['星期一',]\n",
    "\n"
   ]
  },
  {
   "cell_type": "code",
   "execution_count": 14,
   "metadata": {},
   "outputs": [
    {
     "name": "stdout",
     "output_type": "stream",
     "text": [
      "['H', 'e', 'l', 'l', 'o', ',', 'W', 'o', 'r', 'l', 'd']\n"
     ]
    }
   ],
   "source": [
    "\"Hello.World\"\n",
    "list1=list(\"Hello,World\")\n",
    "print (list1)"
   ]
  },
  {
   "cell_type": "code",
   "execution_count": 16,
   "metadata": {},
   "outputs": [
    {
     "data": {
      "text/plain": [
       "'d'"
      ]
     },
     "execution_count": 16,
     "metadata": {},
     "output_type": "execute_result"
    }
   ],
   "source": [
    "#索引編號取出值,subscript[索引編號]\n",
    "list1[0]#取出第一個\n",
    "list1[-1]#取出第一個"
   ]
  },
  {
   "cell_type": "code",
   "execution_count": 20,
   "metadata": {},
   "outputs": [
    {
     "data": {
      "text/plain": [
       "['W', 'o', 'r', 'l']"
      ]
     },
     "execution_count": 20,
     "metadata": {},
     "output_type": "execute_result"
    }
   ],
   "source": [
    "#subscript[前面編號:後面編號] slice\n",
    "list1[0:5]\n",
    "list1[-5:-1] #-1最後一個不包含"
   ]
  },
  {
   "cell_type": "code",
   "execution_count": 23,
   "metadata": {},
   "outputs": [
    {
     "name": "stdout",
     "output_type": "stream",
     "text": [
      "['H', 'e', 'l', 'l', 'o']\n",
      "['W', 'o', 'r', 'l', 'd']\n"
     ]
    }
   ],
   "source": [
    "print(list1[:5])\n",
    "print(list1[-5:])"
   ]
  },
  {
   "cell_type": "code",
   "execution_count": 24,
   "metadata": {},
   "outputs": [
    {
     "name": "stdout",
     "output_type": "stream",
     "text": [
      "['H', 'e', 'l', 'l', 'o']\n",
      "['W', 'o', 'r', 'l', 'd']\n"
     ]
    }
   ],
   "source": [
    "#subscript[前面編號:後面編號]\n",
    "print(list1[:5]) #前面不寫代表最前面,前5個\n",
    "print(list1[-5:]) #後面不寫,代表的是最後(包含),後5個"
   ]
  }
 ],
 "metadata": {
  "kernelspec": {
   "display_name": "Python 3",
   "language": "python",
   "name": "python3"
  },
  "language_info": {
   "codemirror_mode": {
    "name": "ipython",
    "version": 3
   },
   "file_extension": ".py",
   "mimetype": "text/x-python",
   "name": "python",
   "nbconvert_exporter": "python",
   "pygments_lexer": "ipython3",
   "version": "3.10.13"
  }
 },
 "nbformat": 4,
 "nbformat_minor": 2
}
