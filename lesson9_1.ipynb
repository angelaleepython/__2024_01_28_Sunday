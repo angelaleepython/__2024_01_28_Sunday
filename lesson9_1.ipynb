{
 "cells": [
  {
   "cell_type": "code",
   "execution_count": 50,
   "metadata": {},
   "outputs": [
    {
     "name": "stdout",
     "output_type": "stream",
     "text": [
      "7\n",
      "8\n",
      "9\n",
      "10\n",
      "編號0:7\n",
      "編號1:8\n",
      "編號2:9\n",
      "編號3:10\n"
     ]
    }
   ],
   "source": [
    "#list內容可以更改(可變變數)\n",
    "#sequence\n",
    "#iterable\n",
    "\n",
    "L1=[7,8,9,10]\n",
    "for i in L1:\n",
    "    print (i)\n",
    "\n",
    "print(f'編號0:{L1[0]}')\n",
    "print(f'編號1:{L1[1]}')\n",
    "print(f'編號2:{L1[2]}')\n",
    "print(f'編號3:{L1[3]}')"
   ]
  },
  {
   "cell_type": "code",
   "execution_count": 51,
   "metadata": {},
   "outputs": [],
   "source": [
    "#list\n",
    "#type hint->list[int]\n",
    "\n",
    "empty_list:list[int]=[]\n",
    "empty_list:list[str]=list()\n",
    "weekday:list[str]=[]\n"
   ]
  },
  {
   "cell_type": "code",
   "execution_count": 52,
   "metadata": {},
   "outputs": [],
   "source": [
    "for index,value in enumerate(weekday):\n",
    "    print(f'索引編號:{index},值是:{value}')"
   ]
  },
  {
   "cell_type": "code",
   "execution_count": 53,
   "metadata": {},
   "outputs": [],
   "source": [
    "#list\n",
    "#type hint -> list[int]\n",
    "empty_list:list[int] = []\n",
    "empty_list:list[str] = list()\n",
    "weekday: list[str] = ['星期一', '星期二', '星期三', '星期四', '星期五', '星期六', '星期日']\n",
    "big_birds: list[str] = ['emu', 'ostrich', 'cassowary']"
   ]
  },
  {
   "cell_type": "code",
   "execution_count": 54,
   "metadata": {},
   "outputs": [
    {
     "name": "stdout",
     "output_type": "stream",
     "text": [
      "索引編號:0,值是:星期一\n",
      "索引編號:1,值是:星期二\n",
      "索引編號:2,值是:星期三\n",
      "索引編號:3,值是:星期四\n",
      "索引編號:4,值是:星期五\n",
      "索引編號:5,值是:星期六\n",
      "索引編號:6,值是:星期日\n"
     ]
    }
   ],
   "source": [
    "#傳出tuple\n",
    "#使用拆解法\n",
    "for index,value in enumerate(weekday):\n",
    "    print(f'索引編號:{index},值是:{value}')"
   ]
  },
  {
   "cell_type": "code",
   "execution_count": 55,
   "metadata": {},
   "outputs": [
    {
     "name": "stdout",
     "output_type": "stream",
     "text": [
      "['H', 'e', 'l', 'l', 'o', ',', 'W', 'o', 'r', 'l', 'd']\n"
     ]
    }
   ],
   "source": [
    "#Sequence\n",
    "#iterable\n",
    "#不可變變數\n",
    "\"Hello.World\"\n",
    "list1=list(\"Hello,World\")\n",
    "print (list1)"
   ]
  },
  {
   "cell_type": "code",
   "execution_count": 56,
   "metadata": {},
   "outputs": [
    {
     "data": {
      "text/plain": [
       "'d'"
      ]
     },
     "execution_count": 56,
     "metadata": {},
     "output_type": "execute_result"
    }
   ],
   "source": [
    "#索引編號取出值,subscript[索引編號]\n",
    "list1[0]#取出第一個\n",
    "list1[-1]#取出第一個"
   ]
  },
  {
   "cell_type": "code",
   "execution_count": 57,
   "metadata": {},
   "outputs": [
    {
     "data": {
      "text/plain": [
       "['W', 'o', 'r', 'l']"
      ]
     },
     "execution_count": 57,
     "metadata": {},
     "output_type": "execute_result"
    }
   ],
   "source": [
    "#subscript[前面編號:後面編號] slice\n",
    "list1[0:5]\n",
    "list1[-5:-1] #-1最後一個不包含"
   ]
  },
  {
   "cell_type": "code",
   "execution_count": 58,
   "metadata": {},
   "outputs": [
    {
     "name": "stdout",
     "output_type": "stream",
     "text": [
      "['H', 'e', 'l', 'l', 'o']\n",
      "['W', 'o', 'r', 'l', 'd']\n"
     ]
    }
   ],
   "source": [
    "#subscript[前面編號:後面編號]\n",
    "print(list1[:5]) #前面不寫代表最前面,前5個\n",
    "print(list1[-5:]) #後面不寫,代表的是最後(包含),後5個"
   ]
  },
  {
   "cell_type": "code",
   "execution_count": 59,
   "metadata": {},
   "outputs": [
    {
     "name": "stdout",
     "output_type": "stream",
     "text": [
      "[['筆記電腦', '商用筆電'], ['apple', 'asus'], ['冰箱', '洗衣機']]\n"
     ]
    }
   ],
   "source": [
    "from pprint import pprint\n",
    "\n",
    "nb=[\"筆記電腦\",\"商用筆電\"]\n",
    "mobile=[\"apple\",\"asus\"]\n",
    "home=[\"冰箱\",\"洗衣機\"]\n",
    "\n",
    "all3c=[nb,mobile,home]\n",
    "pprint(all3c)"
   ]
  },
  {
   "cell_type": "code",
   "execution_count": 60,
   "metadata": {},
   "outputs": [
    {
     "data": {
      "text/plain": [
       "[['筆記電腦', '商用筆電'], ['apple', 'asus'], ['冰箱', '洗衣機']]"
      ]
     },
     "execution_count": 60,
     "metadata": {},
     "output_type": "execute_result"
    }
   ],
   "source": [
    "#使用list實體方法,append() (參考說明書list)\n",
    "all3c:list[list[str]]=[]\n",
    "all3c.append(nb)\n",
    "all3c.append(mobile)\n",
    "all3c.append(home)\n",
    "all3c"
   ]
  },
  {
   "cell_type": "code",
   "execution_count": 61,
   "metadata": {},
   "outputs": [
    {
     "name": "stdout",
     "output_type": "stream",
     "text": [
      "[['筆記電腦', '商用筆電'], ['apple', 'asus'], ['冰箱', '洗衣機']]\n"
     ]
    }
   ],
   "source": [
    "from pprint import pprint\n",
    "\n",
    "nb:list[str]=[\"筆記電腦\",\"商用筆電\"]\n",
    "mobile:list[str]=[\"apple\",\"asus\"]\n",
    "home:list[str]=[\"冰箱\",\"洗衣機\"]\n",
    "\n",
    "all3c=[nb,mobile,home]\n",
    "pprint(all3c)"
   ]
  },
  {
   "cell_type": "code",
   "execution_count": 62,
   "metadata": {},
   "outputs": [
    {
     "data": {
      "text/plain": [
       "[['冰箱', '洗衣機'], ['apple', 'asus'], ['筆記電腦', '商用筆電']]"
      ]
     },
     "execution_count": 62,
     "metadata": {},
     "output_type": "execute_result"
    }
   ],
   "source": [
    "all3c:list[list[str]]=[]\n",
    "all3c.append(nb)\n",
    "all3c.append(mobile)\n",
    "all3c.append(home)\n",
    "all3c.reverse()\n",
    "all3c\n"
   ]
  },
  {
   "cell_type": "code",
   "execution_count": 65,
   "metadata": {},
   "outputs": [
    {
     "data": {
      "text/plain": [
       "[86, 68, 59, 78, 96]"
      ]
     },
     "execution_count": 65,
     "metadata": {},
     "output_type": "execute_result"
    }
   ],
   "source": [
    "stu2: list[int] = []\n",
    "for i in range(5):\n",
    "    stu2.append(randint(50,100))\n",
    "stu2"
   ]
  },
  {
   "cell_type": "code",
   "execution_count": 66,
   "metadata": {},
   "outputs": [
    {
     "data": {
      "text/plain": [
       "[76, 78, 100, 76, 93]"
      ]
     },
     "execution_count": 66,
     "metadata": {},
     "output_type": "execute_result"
    }
   ],
   "source": [
    "from random import randint\n",
    "stu1: list[int] = [randint(50,100),randint(50,100),randint(50,100),randint(50,100),randint(50,100)]\n",
    "stu1"
   ]
  },
  {
   "cell_type": "code",
   "execution_count": 67,
   "metadata": {},
   "outputs": [
    {
     "data": {
      "text/plain": [
       "[81, 62, 67, 66, 100]"
      ]
     },
     "execution_count": 67,
     "metadata": {},
     "output_type": "execute_result"
    }
   ],
   "source": [
    "stu2: list[int] = []\n",
    "for _ in range(5):\n",
    "    stu2.append(randint(50,100))\n",
    "stu2"
   ]
  },
  {
   "cell_type": "code",
   "execution_count": 73,
   "metadata": {},
   "outputs": [
    {
     "data": {
      "text/plain": [
       "[99, 95, 78, 54, 93]"
      ]
     },
     "execution_count": 73,
     "metadata": {},
     "output_type": "execute_result"
    }
   ],
   "source": [
    "#list comprehension -> 快速建立list\n",
    "#[值 for...in...]\n",
    "stu3: list[int] = [randint(50,100) for _ in range(5)]\n",
    "stu3"
   ]
  },
  {
   "cell_type": "code",
   "execution_count": 75,
   "metadata": {},
   "outputs": [
    {
     "name": "stdout",
     "output_type": "stream",
     "text": [
      "[[99, 51, 97, 93, 70],\n",
      " [92, 62, 77, 74, 51],\n",
      " [92, 92, 92, 63, 67],\n",
      " [85, 72, 89, 97, 86],\n",
      " [82, 80, 98, 90, 51],\n",
      " [64, 87, 66, 96, 90],\n",
      " [68, 69, 77, 92, 73],\n",
      " [57, 68, 87, 63, 64],\n",
      " [90, 99, 63, 54, 96],\n",
      " [82, 52, 70, 56, 75],\n",
      " [90, 54, 77, 78, 86],\n",
      " [99, 91, 79, 86, 75],\n",
      " [85, 56, 84, 86, 92],\n",
      " [75, 53, 72, 60, 70],\n",
      " [82, 99, 62, 87, 91],\n",
      " [97, 72, 70, 55, 78],\n",
      " [76, 95, 90, 88, 53],\n",
      " [82, 60, 89, 85, 77],\n",
      " [53, 85, 62, 83, 60],\n",
      " [80, 54, 90, 65, 59],\n",
      " [100, 93, 80, 99, 80],\n",
      " [56, 90, 64, 87, 65],\n",
      " [53, 52, 96, 97, 88],\n",
      " [54, 72, 81, 54, 50],\n",
      " [50, 52, 82, 97, 77],\n",
      " [80, 81, 92, 81, 97],\n",
      " [74, 68, 94, 64, 54],\n",
      " [57, 84, 89, 98, 67],\n",
      " [74, 97, 52, 71, 52],\n",
      " [85, 68, 94, 81, 73],\n",
      " [51, 65, 68, 98, 62],\n",
      " [74, 85, 68, 95, 57],\n",
      " [87, 93, 63, 90, 88],\n",
      " [71, 81, 81, 81, 76],\n",
      " [75, 65, 61, 85, 91],\n",
      " [71, 67, 67, 77, 78],\n",
      " [78, 76, 56, 61, 85],\n",
      " [54, 93, 88, 100, 79],\n",
      " [61, 53, 84, 98, 93],\n",
      " [55, 54, 95, 88, 50],\n",
      " [78, 59, 88, 88, 82],\n",
      " [62, 83, 77, 89, 84],\n",
      " [83, 93, 58, 80, 65],\n",
      " [53, 92, 59, 79, 62],\n",
      " [63, 100, 50, 70, 96],\n",
      " [72, 77, 77, 95, 54],\n",
      " [80, 75, 83, 66, 90],\n",
      " [91, 90, 52, 82, 76],\n",
      " [87, 100, 84, 90, 95],\n",
      " [96, 94, 90, 69, 100]]\n"
     ]
    }
   ],
   "source": [
    "from pprint import pprint\n",
    "students:list[list[int]]=[]\n",
    "for _ in range(50):\n",
    "    stu: list[int] = [randint(50,100) for _ in range(5)]\n",
    "    students.append(stu)\n",
    "pprint(students)"
   ]
  },
  {
   "cell_type": "code",
   "execution_count": 82,
   "metadata": {},
   "outputs": [
    {
     "ename": "IndentationError",
     "evalue": "expected an indented block after class definition on line 1 (572837092.py, line 2)",
     "output_type": "error",
     "traceback": [
      "\u001b[0;36m  Cell \u001b[0;32mIn[82], line 2\u001b[0;36m\u001b[0m\n\u001b[0;31m    def __init__(self):\u001b[0m\n\u001b[0m    ^\u001b[0m\n\u001b[0;31mIndentationError\u001b[0m\u001b[0;31m:\u001b[0m expected an indented block after class definition on line 1\n"
     ]
    }
   ],
   "source": [
    "class Animal:\n",
    "def __init__(self):\n",
    "pass\n",
    "def eat(self):\n",
    " print(\"Animal eat\")\n",
    "def sleep(self):\n",
    "print(\"Animal sleep\")\n",
    "class Cat(Animal):\n",
    "def __init__(self):\n",
    "pass\n",
    "def sleep(self):\n",
    "print(\"Cat sleep\")\n",
    "\n",
    "CatA = Cat()\n",
    "CatA.eat()\n",
    "CatA.sleep()\n",
    "\n"
   ]
  }
 ],
 "metadata": {
  "kernelspec": {
   "display_name": "Python 3",
   "language": "python",
   "name": "python3"
  },
  "language_info": {
   "codemirror_mode": {
    "name": "ipython",
    "version": 3
   },
   "file_extension": ".py",
   "mimetype": "text/x-python",
   "name": "python",
   "nbconvert_exporter": "python",
   "pygments_lexer": "ipython3",
   "version": "3.10.13"
  }
 },
 "nbformat": 4,
 "nbformat_minor": 2
}
