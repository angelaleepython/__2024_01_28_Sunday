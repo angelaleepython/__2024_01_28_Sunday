{
 "cells": [
  {
   "cell_type": "code",
   "execution_count": 4,
   "metadata": {},
   "outputs": [
    {
     "name": "stdout",
     "output_type": "stream",
     "text": [
      "請輸入學生分數:77\n",
      "甲\n"
     ]
    }
   ],
   "source": [
    "#3個數值區段\n",
    "#使用多項選擇\n",
    "import pyinputplus as pyip\n",
    "scores=pyip.inputInt(\"請輸入學生分數:\")\n",
    "print(scores)\n",
    "\n",
    "if scores<60:\n",
    "     print(\"不及格\")\n",
    "elif scores>=60 and scores<=80:\n",
    "     print(\"甲\")\n",
    "else:\n",
    "     print(\"優\")\n"
   ]
  },
  {
   "cell_type": "code",
   "execution_count": 7,
   "metadata": {},
   "outputs": [
    {
     "name": "stdout",
     "output_type": "stream",
     "text": [
      "請輸入學生分數:55\n",
      "不及格\n"
     ]
    }
   ],
   "source": [
    "#3個數值區段\n",
    "#使用巢狀判斷\n",
    "import pyinputplus as pyip\n",
    "scores=pyip.inputInt(\"請輸入學生分數:\")\n",
    "print(scores)\n",
    "\n",
    "if scores<60:\n",
    "     print(\"不及格\")\n",
    "elif scores<=80:\n",
    "     print(\"甲\")\n",
    "else:\n",
    "     print(\"優\")\n"
   ]
  },
  {
   "cell_type": "code",
   "execution_count": 8,
   "metadata": {},
   "outputs": [
    {
     "name": "stdout",
     "output_type": "stream",
     "text": [
      "165\n",
      "在120-250之間\n",
      "80\n",
      "在120-250之間\n",
      "你的BMI是29.38\n",
      "你的體重輕度肥胖\n"
     ]
    }
   ],
   "source": [
    "import pyinputplus as pyip\n",
    "\n",
    "try:\n",
    "    height=int(input(\"請輸入身高(公分,120-250)\"))\n",
    "    print(height)\n",
    "    if height>=120 and height<=250:\n",
    "        print(\"在120-250之間\")\n",
    "    else:\n",
    "        print(\"不在範圍內\")\n",
    "    weight=int(input(\"請輸入體重(公斤,30-250)\"))\n",
    "    print(weight)\n",
    "    if weight>=30 and weight<=250:\n",
    "        print(\"在120-250之間\")\n",
    "    else:\n",
    "        print(\"不在範圍內\")\n",
    "    BMI=weight/((height/100)**2)\n",
    "    print(f\"你的BMI是{BMI:.2f}\")\n",
    "    if(BMI<18.5):\n",
    "        print(\"你的體重過輕\")\n",
    "    elif(BMI>18.5 and BMI<24):\n",
    "        print(\"你的體重正常\")\n",
    "    elif(BMI>24 and BMI<27):\n",
    "        print(\"你的體重過重\")\n",
    "    elif(BMI>27 and BMI<30):\n",
    "        print(\"你的體重輕度肥胖\")\n",
    "    elif(BMI>30 and BMI<35):\n",
    "        print(\"你的體重中度肥胖\")\n",
    "    elif(BMI>35):\n",
    "        print(\"你的體重重度肥胖\")\n",
    "except:\n",
    "    print(\"輸出錯誤訊息\")"
   ]
  },
  {
   "cell_type": "code",
   "execution_count": 12,
   "metadata": {},
   "outputs": [
    {
     "name": "stdout",
     "output_type": "stream",
     "text": [
      "請輸入您的身高 ( 120~250 公分)\n",
      "您的身高是:170.00公分\n",
      "請輸入您的體重 (  30~250 公斤)\n",
      "您的體重是：90.00公斤\n",
      "您的BMI值為:31.14\n",
      "您的體重為中度肥胖\n"
     ]
    }
   ],
   "source": [
    "import pyinputplus as pyip\n",
    "\n",
    "height = pyip.inputNum('請輸入您的身高 ( 120~250 公分)\\n',min=120,max=250)\n",
    "print(f'您的身高是:{height:.2f}公分')\n",
    "weight = pyip.inputNum('請輸入您的體重 (  30~250 公斤)\\n',min=30,max=250)\n",
    "print(f'您的體重是：{weight:.2f}公斤')\n",
    "bmi=weight/((height/100)**2)\n",
    "print(f'您的BMI值為:{bmi:.2f}')\n",
    "if bmi<18.5:\n",
    "    print(f'您的體重過輕')\n",
    "elif bmi<24:\n",
    "    print(f'您的體重正常')\n",
    "elif bmi<27:\n",
    "    print(f'您的體重為過重')\n",
    "elif bmi<30:\n",
    "    print(f'您的體重為輕度肥胖')\n",
    "elif bmi<35:\n",
    "    print(f'您的體重為中度肥胖')\n",
    "else:  \n",
    "    print(f'您的體重為重度肥胖') "
   ]
  },
  {
   "cell_type": "code",
   "execution_count": 13,
   "metadata": {},
   "outputs": [
    {
     "name": "stdout",
     "output_type": "stream",
     "text": [
      "請輸入身高(公分,120-250):130\n",
      "請輸入體重(公斤,30-250):80\n",
      "您的BMI是:47.34\n",
      "您的體重:重度肥胖\n"
     ]
    }
   ],
   "source": [
    "import pyinputplus as pyip\n",
    "\n",
    "height = pyip.inputInt('請輸入身高(公分,120-250):',min=120,max=250)\n",
    "print(height)\n",
    "weight = pyip.inputInt('請輸入體重(公斤,30-250):',min=30,max=250)\n",
    "print(weight)\n",
    "bmi = weight/(height/100)**2\n",
    "print(f'您的BMI是:{bmi:.2f}')\n",
    "if bmi<18.5:\n",
    "    print('您的體重:體重過輕')\n",
    "elif bmi<24:\n",
    "    print('您的體重:正常')\n",
    "elif bmi<27:\n",
    "    print('您的體重:過重')\n",
    "elif bmi<30:\n",
    "    print('您的體重:輕度肥胖')\n",
    "elif bmi<35:\n",
    "    print('您的體重:中度肥胖')\n",
    "else:\n",
    "    print('您的體重:重度肥胖')"
   ]
  },
  {
   "cell_type": "code",
   "execution_count": 14,
   "metadata": {},
   "outputs": [
    {
     "name": "stdout",
     "output_type": "stream",
     "text": [
      "請輸入您的身高 ( 120~250 公分)\n",
      "您的身高是:180.00公分\n",
      "請輸入您的體重 (  30~250 公斤)\n",
      "您的體重是：90.00公斤\n",
      "您的BMI值為:27.78\n",
      "您的體重為輕度肥胖\n"
     ]
    }
   ],
   "source": [
    "import pyinputplus as pyip\n",
    "\n",
    "height = pyip.inputNum('請輸入您的身高 ( 120~250 公分)\\n',min=120,max=250)\n",
    "print(f'您的身高是:{height:.2f}公分')\n",
    "weight = pyip.inputNum('請輸入您的體重 (  30~250 公斤)\\n',min=30,max=250)\n",
    "print(f'您的體重是：{weight:.2f}公斤')\n",
    "bmi=weight/((height/100)**2)\n",
    "print(f'您的BMI值為:{bmi:.2f}')\n",
    "if bmi<18.5:\n",
    "    print(f'您的體重過輕')\n",
    "elif bmi<24:\n",
    "    print(f'您的體重正常')\n",
    "elif bmi<27:\n",
    "    print(f'您的體重為過重')\n",
    "elif bmi<30:\n",
    "    print(f'您的體重為輕度肥胖')\n",
    "elif bmi<35:\n",
    "    print(f'您的體重為中度肥胖')\n",
    "else:  \n",
    "    print(f'您的體重為重度肥胖') "
   ]
  },
  {
   "cell_type": "code",
   "execution_count": 15,
   "metadata": {},
   "outputs": [
    {
     "name": "stdout",
     "output_type": "stream",
     "text": [
      "請輸入您的身高 (120~250公分)\n",
      "您的身高是:165.00公分\n",
      "請輸入您的體重 (30~250公斤)\n",
      "您的體重是：90.00公斤\n",
      "您的BMI值為:33.06\n",
      "您的體重為中度肥胖\n"
     ]
    }
   ],
   "source": [
    "import pyinputplus as pyip\n",
    "\n",
    "height = pyip.inputNum('請輸入您的身高 (120~250公分)\\n',min=120,max=250)\n",
    "print(f'您的身高是:{height:.2f}公分')\n",
    "weight = pyip.inputNum('請輸入您的體重 (30~250公斤)\\n',min=30,max=250)\n",
    "print(f'您的體重是：{weight:.2f}公斤')\n",
    "bmi=weight/((height/100)**2)\n",
    "print(f'您的BMI值為:{bmi:.2f}')\n",
    "if bmi<18.5:\n",
    "    print(f'您的體重過輕')\n",
    "elif bmi<24:\n",
    "    print(f'您的體重正常')\n",
    "elif bmi<27:\n",
    "    print(f'您的體重為過重')\n",
    "elif bmi<30:\n",
    "    print(f'您的體重為輕度肥胖')\n",
    "elif bmi<35:\n",
    "    print(f'您的體重為中度肥胖')\n",
    "else:  \n",
    "    print(f'您的體重為重度肥胖') "
   ]
  }
 ],
 "metadata": {
  "kernelspec": {
   "display_name": "Python 3",
   "language": "python",
   "name": "python3"
  },
  "language_info": {
   "codemirror_mode": {
    "name": "ipython",
    "version": 3
   },
   "file_extension": ".py",
   "mimetype": "text/x-python",
   "name": "python",
   "nbconvert_exporter": "python",
   "pygments_lexer": "ipython3",
   "version": "3.10.13"
  }
 },
 "nbformat": 4,
 "nbformat_minor": 2
}
