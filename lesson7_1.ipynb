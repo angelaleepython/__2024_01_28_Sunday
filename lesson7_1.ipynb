{
 "cells": [
  {
   "cell_type": "code",
   "execution_count": null,
   "metadata": {},
   "outputs": [],
   "source": [
    "import pyinputplus as pyip\n",
    "\n",
    "height = pyip.inputNum('請輸入您的身高 (120~250公分)\\n',min=120,max=250)\n",
    "print(f'您的身高是:{height:.2f}公分')\n",
    "weight = pyip.inputNum('請輸入您的體重 (30~250公斤)\\n',min=30,max=250)\n",
    "print(f'您的體重是：{weight:.2f}公斤')\n",
    "bmi=weight/((height/100)**2)\n",
    "print(f'您的BMI值為:{bmi:.2f}')\n",
    "if bmi<18.5:\n",
    "    print(f'您的體重過輕')\n",
    "elif bmi<24:\n",
    "    print(f'您的體重正常')\n",
    "elif bmi<27:\n",
    "    print(f'您的體重為過重')\n",
    "elif bmi<30:\n",
    "    print(f'您的體重為輕度肥胖')\n",
    "elif bmi<35:\n",
    "    print(f'您的體重為中度肥胖')\n",
    "else:  \n",
    "    print(f'您的體重為重度肥胖') "
   ]
  },
  {
   "cell_type": "code",
   "execution_count": 1,
   "metadata": {},
   "outputs": [
    {
     "name": "stdout",
     "output_type": "stream",
     "text": [
      "身高或體重超出範圍\n",
      "應用程式結束了\n"
     ]
    }
   ],
   "source": [
    "try:\n",
    "    height = int(input('請輸入身高(公分,120-250):'))\n",
    "    weight = int(input('請輸入體重(公斤,30-250):'))\n",
    "    if (height >=120 and height <= 250) and (weight >= 30 and weight<= 250):\n",
    "        bmi = weight/(height/100)**2\n",
    "        print(f'您的BMI是:{bmi:.2f}')\n",
    "        if bmi<18.5:\n",
    "            print('您的體重:體重過輕')\n",
    "        elif bmi<24:\n",
    "            print('您的體重:正常')\n",
    "        elif bmi<27:\n",
    "            print('您的體重:過重')\n",
    "        elif bmi<30:\n",
    "            print('您的體重:輕度肥胖')\n",
    "        elif bmi<35:\n",
    "            print('您的體重:中度肥胖')\n",
    "        else:\n",
    "            print('您的體重:重度肥胖')\n",
    "    else:\n",
    "        print(\"身高或體重超出範圍\")\n",
    "except:\n",
    "    print(\"輸入的格式有問題\")\n",
    "print(\"應用程式結束了\")"
   ]
  },
  {
   "cell_type": "code",
   "execution_count": 2,
   "metadata": {},
   "outputs": [],
   "source": [
    "total=0\n",
    "for i in range(1,101):\n",
    "    total+= i\n",
    "    total"
   ]
  },
  {
   "cell_type": "code",
   "execution_count": 1,
   "metadata": {},
   "outputs": [
    {
     "name": "stdout",
     "output_type": "stream",
     "text": [
      "i=1\n",
      "j=1 j=2 j=3 j=4 j=5 j=6 j=7 j=8 j=9 \n",
      "i=2\n",
      "j=1 j=2 j=3 j=4 j=5 j=6 j=7 j=8 j=9 \n",
      "i=3\n",
      "j=1 j=2 j=3 j=4 j=5 j=6 j=7 j=8 j=9 \n",
      "i=4\n",
      "j=1 j=2 j=3 j=4 j=5 j=6 j=7 j=8 j=9 \n",
      "i=5\n",
      "j=1 j=2 j=3 j=4 j=5 j=6 j=7 j=8 j=9 \n",
      "i=6\n",
      "j=1 j=2 j=3 j=4 j=5 j=6 j=7 j=8 j=9 \n",
      "i=7\n",
      "j=1 j=2 j=3 j=4 j=5 j=6 j=7 j=8 j=9 \n",
      "i=8\n",
      "j=1 j=2 j=3 j=4 j=5 j=6 j=7 j=8 j=9 \n",
      "i=9\n",
      "j=1 j=2 j=3 j=4 j=5 j=6 j=7 j=8 j=9 \n"
     ]
    }
   ],
   "source": [
    "for i in range(1,10):\n",
    "    print(f'i={i}')\n",
    "    for j in range(1,10):\n",
    "        print(f'j={j}',end=' ')\n",
    "    print()"
   ]
  },
  {
   "cell_type": "code",
   "execution_count": 3,
   "metadata": {},
   "outputs": [
    {
     "name": "stdout",
     "output_type": "stream",
     "text": [
      "1*1=1 1*2=2 1*3=3 1*4=4 1*5=5 1*6=6 1*7=7 1*8=8 1*9=9 \n",
      "2*1=2 2*2=4 2*3=6 2*4=8 2*5=10 2*6=12 2*7=14 2*8=16 2*9=18 \n",
      "3*1=3 3*2=6 3*3=9 3*4=12 3*5=15 3*6=18 3*7=21 3*8=24 3*9=27 \n",
      "4*1=4 4*2=8 4*3=12 4*4=16 4*5=20 4*6=24 4*7=28 4*8=32 4*9=36 \n",
      "5*1=5 5*2=10 5*3=15 5*4=20 5*5=25 5*6=30 5*7=35 5*8=40 5*9=45 \n",
      "6*1=6 6*2=12 6*3=18 6*4=24 6*5=30 6*6=36 6*7=42 6*8=48 6*9=54 \n",
      "7*1=7 7*2=14 7*3=21 7*4=28 7*5=35 7*6=42 7*7=49 7*8=56 7*9=63 \n",
      "8*1=8 8*2=16 8*3=24 8*4=32 8*5=40 8*6=48 8*7=56 8*8=64 8*9=72 \n",
      "9*1=9 9*2=18 9*3=27 9*4=36 9*5=45 9*6=54 9*7=63 9*8=72 9*9=81 \n"
     ]
    }
   ],
   "source": [
    "for i in range(1,10):\n",
    "    #print(f'i={i}')\n",
    "    for j in range(1,10):\n",
    "        print(f'{i}*{j}={i*j}',end=' ')\n",
    "    print()"
   ]
  },
  {
   "cell_type": "code",
   "execution_count": 4,
   "metadata": {},
   "outputs": [
    {
     "name": "stdout",
     "output_type": "stream",
     "text": [
      "1 *1=1 1 *2=2 1 *3=3 1 *4=4 1 *5=5 1 *6=6 1 *7=7 1 *8=8 1 *9=9 \n",
      "2 *1=2 2 *2=4 2 *3=6 2 *4=8 2 *5=10 2 *6=12 2 *7=14 2 *8=16 2 *9=18 \n",
      "3 *1=3 3 *2=6 3 *3=9 3 *4=12 3 *5=15 3 *6=18 3 *7=21 3 *8=24 3 *9=27 \n",
      "4 *1=4 4 *2=8 4 *3=12 4 *4=16 4 *5=20 4 *6=24 4 *7=28 4 *8=32 4 *9=36 \n",
      "5 *1=5 5 *2=10 5 *3=15 5 *4=20 5 *5=25 5 *6=30 5 *7=35 5 *8=40 5 *9=45 \n",
      "6 *1=6 6 *2=12 6 *3=18 6 *4=24 6 *5=30 6 *6=36 6 *7=42 6 *8=48 6 *9=54 \n",
      "7 *1=7 7 *2=14 7 *3=21 7 *4=28 7 *5=35 7 *6=42 7 *7=49 7 *8=56 7 *9=63 \n",
      "8 *1=8 8 *2=16 8 *3=24 8 *4=32 8 *5=40 8 *6=48 8 *7=56 8 *8=64 8 *9=72 \n",
      "9 *1=9 9 *2=18 9 *3=27 9 *4=36 9 *5=45 9 *6=54 9 *7=63 9 *8=72 9 *9=81 \n"
     ]
    }
   ],
   "source": [
    "for i in range(1,10):\n",
    "    #print(f'i={i}')\n",
    "    for j in range(1,10):\n",
    "        print(f'{i:<2d}*{j}={i*j}',end=' ')\n",
    "    print()"
   ]
  },
  {
   "cell_type": "code",
   "execution_count": 7,
   "metadata": {},
   "outputs": [
    {
     "name": "stdout",
     "output_type": "stream",
     "text": [
      "1 * 1= 1     1 * 2= 2     1 * 3= 3     1 * 4= 4     1 * 5= 5     1 * 6= 6     1 * 7= 7     1 * 8= 8     1 * 9= 9     \n",
      "2 * 1= 2     2 * 2= 4     2 * 3= 6     2 * 4= 8     2 * 5=10     2 * 6=12     2 * 7=14     2 * 8=16     2 * 9=18     \n",
      "3 * 1= 3     3 * 2= 6     3 * 3= 9     3 * 4=12     3 * 5=15     3 * 6=18     3 * 7=21     3 * 8=24     3 * 9=27     \n",
      "4 * 1= 4     4 * 2= 8     4 * 3=12     4 * 4=16     4 * 5=20     4 * 6=24     4 * 7=28     4 * 8=32     4 * 9=36     \n",
      "5 * 1= 5     5 * 2=10     5 * 3=15     5 * 4=20     5 * 5=25     5 * 6=30     5 * 7=35     5 * 8=40     5 * 9=45     \n",
      "6 * 1= 6     6 * 2=12     6 * 3=18     6 * 4=24     6 * 5=30     6 * 6=36     6 * 7=42     6 * 8=48     6 * 9=54     \n",
      "7 * 1= 7     7 * 2=14     7 * 3=21     7 * 4=28     7 * 5=35     7 * 6=42     7 * 7=49     7 * 8=56     7 * 9=63     \n",
      "8 * 1= 8     8 * 2=16     8 * 3=24     8 * 4=32     8 * 5=40     8 * 6=48     8 * 7=56     8 * 8=64     8 * 9=72     \n",
      "9 * 1= 9     9 * 2=18     9 * 3=27     9 * 4=36     9 * 5=45     9 * 6=54     9 * 7=63     9 * 8=72     9 * 9=81     \n"
     ]
    }
   ],
   "source": [
    "for i in range(1,10):\n",
    "    #print(f'i={i}')\n",
    "    for j in range(1,10):\n",
    "        print(f'{i:<2d}*{j:2d}={i*j:2d}',end='     ')\n",
    "    print()"
   ]
  },
  {
   "cell_type": "code",
   "execution_count": null,
   "metadata": {},
   "outputs": [],
   "source": []
  }
 ],
 "metadata": {
  "kernelspec": {
   "display_name": "Python 3",
   "language": "python",
   "name": "python3"
  },
  "language_info": {
   "codemirror_mode": {
    "name": "ipython",
    "version": 3
   },
   "file_extension": ".py",
   "mimetype": "text/x-python",
   "name": "python",
   "nbconvert_exporter": "python",
   "pygments_lexer": "ipython3",
   "version": "3.10.13"
  }
 },
 "nbformat": 4,
 "nbformat_minor": 2
}
