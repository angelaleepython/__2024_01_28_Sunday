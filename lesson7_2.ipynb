{
 "cells": [
  {
   "cell_type": "code",
   "execution_count": 1,
   "metadata": {},
   "outputs": [
    {
     "name": "stdout",
     "output_type": "stream",
     "text": [
      "0\n",
      "1\n",
      "2\n",
      "3\n",
      "4\n"
     ]
    }
   ],
   "source": [
    "i=0\n",
    "while(i<5):\n",
    "    print(i)\n",
    "    i+=1\n",
    "    "
   ]
  },
  {
   "cell_type": "code",
   "execution_count": 5,
   "metadata": {},
   "outputs": [
    {
     "data": {
      "text/plain": [
       "5050"
      ]
     },
     "execution_count": 5,
     "metadata": {},
     "output_type": "execute_result"
    }
   ],
   "source": [
    "#while,做明確知道執行的次數\n",
    "total=0\n",
    "i=1\n",
    "while(i<101):\n",
    "    total+=i\n",
    "    i+=1\n",
    "total\n",
    "    "
   ]
  },
  {
   "cell_type": "code",
   "execution_count": 9,
   "metadata": {},
   "outputs": [
    {
     "name": "stdout",
     "output_type": "stream",
     "text": [
      "請輸入第1月份的存款金額:3000\n",
      "請輸入第2月份的存款金額:490\n",
      "請輸入第3月份的存款金額:500\n",
      "請輸入第4月份的存款金額:300\n",
      "請輸入第5月份的存款金額:90\n",
      "請輸入第6月份的存款金額:30\n",
      "請輸入第7月份的存款金額:30\n",
      "請輸入第8月份的存款金額:30\n",
      "請輸入第9月份的存款金額:29000\n",
      "恭喜!已經存夠了,存了9月,共存了33470元\n"
     ]
    }
   ],
   "source": [
    "#while,做不知道執行的次數\n",
    "#小明想要存錢買一輛機車,機車每輛30000元，他將每月存的錢輸入，當存款足夠買機車時，就顯示提示訊息告知。\n",
    "\n",
    "import pyinputplus as pyip\n",
    "deposit:int=0\n",
    "count:int=0\n",
    "while(deposit<30000):\n",
    "   count+=1\n",
    "   value:int =pyip.inputInt(f\"請輸入第{count}月份的存款金額:\")\n",
    "   print(value)\n",
    "   deposit+=value\n",
    "print(f\"恭喜!已經存夠了,存了{count}月,共存了{deposit}元\")\n",
    "\n",
    "\n"
   ]
  },
  {
   "cell_type": "code",
   "execution_count": 10,
   "metadata": {},
   "outputs": [
    {
     "name": "stdout",
     "output_type": "stream",
     "text": [
      "請輸入第1月份的存款金額:3000\n",
      "請輸入第2月份的存款金額:3000\n",
      "請輸入第3月份的存款金額:18000\n",
      "請輸入第4月份的存款金額:18000\n",
      "恭喜!已經存夠了,存了4月,共存了42000元\n"
     ]
    }
   ],
   "source": [
    "#小明想要存錢買一輛機車,機車每輛30000元，他將每月存的錢輸入，當存款足\n",
    "#使用break跳出迴圈\n",
    "import pyinputplus as pyip\n",
    "deposit:int=0\n",
    "count:int=0\n",
    "while(True):\n",
    "   count+=1\n",
    "   value:int =pyip.inputInt(f\"請輸入第{count}月份的存款金額:\")\n",
    "   print(value)\n",
    "   deposit+=value\n",
    "   if deposit>=30000:\n",
    "      break\n",
    "\n",
    "print(f\"恭喜!已經存夠了,存了{count}月,共存了{deposit}元\")\n"
   ]
  },
  {
   "cell_type": "code",
   "execution_count": 11,
   "metadata": {},
   "outputs": [
    {
     "name": "stdout",
     "output_type": "stream",
     "text": [
      "請輸入第1月份的存款金額:10000\n",
      "請輸入第2月份的存款金額:10000\n",
      "請輸入第3月份的存款金額:10000\n",
      "恭喜!已經存夠了,存了3月,共存了30000元\n"
     ]
    }
   ],
   "source": [
    "import pyinputplus as pyip\n",
    "deposit:int=0\n",
    "count:int=0\n",
    "while(True):\n",
    "   count+=1\n",
    "   value:int =pyip.inputInt(f\"請輸入第{count}月份的存款金額:\")\n",
    "   print(value)\n",
    "   deposit+=value\n",
    "   if deposit>=30000:\n",
    "      break\n",
    "\n",
    "print(f\"恭喜!已經存夠了,存了{count}月,共存了{deposit}元\")\n"
   ]
  },
  {
   "cell_type": "code",
   "execution_count": null,
   "metadata": {},
   "outputs": [],
   "source": []
  }
 ],
 "metadata": {
  "kernelspec": {
   "display_name": "Python 3",
   "language": "python",
   "name": "python3"
  },
  "language_info": {
   "codemirror_mode": {
    "name": "ipython",
    "version": 3
   },
   "file_extension": ".py",
   "mimetype": "text/x-python",
   "name": "python",
   "nbconvert_exporter": "python",
   "pygments_lexer": "ipython3",
   "version": "3.10.13"
  }
 },
 "nbformat": 4,
 "nbformat_minor": 2
}
