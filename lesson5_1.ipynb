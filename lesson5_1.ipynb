{
 "cells": [
  {
   "cell_type": "code",
   "execution_count": null,
   "metadata": {},
   "outputs": [],
   "source": [
    "score:int = int(inout(\"請輸入學生分數(最高300分):\"))\n",
    "is_add:str=input('學生是否符合加分條件')\n",
    "\n",
    "if is_add==\"y\"\n",
    "    scores *=1.05\n",
    "    if scoew>300:\n",
    "        scorea=300\n",
    "\n",
    "print(f\"學生學分為(scire:.0f)\")\n"
   ]
  }
 ],
 "metadata": {
  "kernelspec": {
   "display_name": "Python 3",
   "language": "python",
   "name": "python3"
  },
  "language_info": {
   "name": "python",
   "version": "3.10.13"
  }
 },
 "nbformat": 4,
 "nbformat_minor": 2
}
