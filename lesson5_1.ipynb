{
 "cells": [
  {
   "cell_type": "code",
   "execution_count": 10,
   "metadata": {},
   "outputs": [
    {
     "name": "stdout",
     "output_type": "stream",
     "text": [
      "學生學分為209\n",
      "程式結束\n"
     ]
    }
   ],
   "source": [
    "scores:float=eval(input(\"請輸入學生分數(最高300分):\"))\n",
    "if scores<=300:\n",
    "    is_add:str=input('學生是否符合加分條件')\n",
    "    if is_add==\"y\":\n",
    "        scores*=1.05\n",
    "        if scores>300:\n",
    "            scores=300\n",
    "\n",
    "    print(f\"學生學分為{scores:.0f}\")\n",
    "else:\n",
    "    print(\"學生分數不可以大於300\")\n",
    "print('程式結束')\n"
   ]
  },
  {
   "cell_type": "code",
   "execution_count": 16,
   "metadata": {},
   "outputs": [
    {
     "name": "stdout",
     "output_type": "stream",
     "text": [
      "學生學分為200\n",
      "程式結束\n"
     ]
    }
   ],
   "source": [
    "#檢查格式是否有錯誤\n",
    "#try...exept..else\n",
    "\n",
    "try:\n",
    "    scores:float=eval(input(\"請輸入學生分數(最高300分):\"))\n",
    "except:\n",
    "    print(\"輸入格式錯誤\")\n",
    "else:\n",
    "    if scores<=300:\n",
    "        is_add:str=input('學生是否符合加分條件')\n",
    "        if is_add==\"y\":\n",
    "            scores*=1.05\n",
    "            if scores>300:\n",
    "                scores=300\n",
    "\n",
    "        print(f\"學生學分為{scores:.0f}\")\n",
    "    else:\n",
    "        print(\"學生分數不可以大於300\")\n",
    "print('程式結束')\n"
   ]
  },
  {
   "cell_type": "code",
   "execution_count": 18,
   "metadata": {},
   "outputs": [
    {
     "name": "stdout",
     "output_type": "stream",
     "text": [
      "學生學分為208\n",
      "程式結束\n"
     ]
    }
   ],
   "source": [
    "#檢查格式是否有錯誤\n",
    "#try...exept\n",
    "\n",
    "\n",
    "try:\n",
    "    scores:float=eval(input(\"請輸入學生分數(最高300分):\"))\n",
    "    if scores<=300:\n",
    "        is_add:str=input('學生是否符合加分條件')\n",
    "        if is_add==\"y\":\n",
    "            scores*=1.05\n",
    "            if scores>300:\n",
    "                scores=300\n",
    "\n",
    "        print(f\"學生學分為{scores:.0f}\")\n",
    "    else:\n",
    "        print(\"學生分數不可以大於300\")\n",
    "\n",
    "except:\n",
    "    print(\"輸入格式有錯誤\")\n",
    "\n",
    "print('程式結束')\n"
   ]
  },
  {
   "cell_type": "code",
   "execution_count": null,
   "metadata": {},
   "outputs": [],
   "source": []
  }
 ],
 "metadata": {
  "kernelspec": {
   "display_name": "Python 3",
   "language": "python",
   "name": "python3"
  },
  "language_info": {
   "codemirror_mode": {
    "name": "ipython",
    "version": 3
   },
   "file_extension": ".py",
   "mimetype": "text/x-python",
   "name": "python",
   "nbconvert_exporter": "python",
   "pygments_lexer": "ipython3",
   "version": "3.10.13"
  }
 },
 "nbformat": 4,
 "nbformat_minor": 2
}
