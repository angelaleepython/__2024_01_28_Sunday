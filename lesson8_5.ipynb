{
 "cells": [
  {
   "cell_type": "code",
   "execution_count": 2,
   "metadata": {},
   "outputs": [],
   "source": [
    "#自訂的function\n",
    "def circle_area(radius:float)->float:\n",
    "    area=3.1415926*radius**2\n",
    "    return area"
   ]
  },
  {
   "cell_type": "code",
   "execution_count": 5,
   "metadata": {},
   "outputs": [
    {
     "data": {
      "text/plain": [
       "10495.558221784"
      ]
     },
     "execution_count": 5,
     "metadata": {},
     "output_type": "execute_result"
    }
   ],
   "source": [
    "#呼叫function\n",
    "circle_area(92.5)\n",
    "circle_area(43.3)\n",
    "radius = 57.8\n",
    "circle_area(radius=radius)"
   ]
  },
  {
   "cell_type": "code",
   "execution_count": 1,
   "metadata": {},
   "outputs": [
    {
     "name": "stdout",
     "output_type": "stream",
     "text": [
      "245\n",
      "在120-250之間\n",
      "68\n",
      "在120-250之間\n",
      "你的BMI是11.33\n",
      "你的體重過輕\n"
     ]
    }
   ],
   "source": [
    "def getSuggestion(BMI:float)->str:\n",
    "    print(f\"你的BMI是{BMI:.2f}\")\n",
    "    if(BMI<18.5):\n",
    "        print(\"你的體重過輕\")\n",
    "    elif(BMI>18.5 and BMI<24):\n",
    "        print(\"你的體重正常\")\n",
    "    elif(BMI>24 and BMI<27):\n",
    "        print(\"你的體重過重\")\n",
    "    elif(BMI>27 and BMI<30):\n",
    "        print(\"你的體重輕度肥胖\")\n",
    "    elif(BMI>30 and BMI<35):\n",
    "        print(\"你的體重中度肥胖\")\n",
    "    elif(BMI>35):\n",
    "        print(\"你的體重重度肥胖\")\n",
    "    return BMI\n",
    "try:\n",
    "    height=int(input(\"請輸入身高(公分,120-250)\"))\n",
    "    print(height)\n",
    "    if height>=120 and height<=250:\n",
    "        print(\"在120-250之間\")\n",
    "    else:\n",
    "        print(\"不在範圍內\")\n",
    "    weight=int(input(\"請輸入體重(公斤,30-250)\"))\n",
    "    print(weight)\n",
    "    if weight>=30 and weight<=250:\n",
    "        print(\"在120-250之間\")\n",
    "        BMI=weight/((height/100)**2)\n",
    "        getSuggestion(BMI)\n",
    "    else:\n",
    "        print(\"不在範圍內\")\n",
    "except:\n",
    "    print(\"輸出錯誤訊息\")     "
   ]
  }
 ],
 "metadata": {
  "kernelspec": {
   "display_name": "Python 3",
   "language": "python",
   "name": "python3"
  },
  "language_info": {
   "codemirror_mode": {
    "name": "ipython",
    "version": 3
   },
   "file_extension": ".py",
   "mimetype": "text/x-python",
   "name": "python",
   "nbconvert_exporter": "python",
   "pygments_lexer": "ipython3",
   "version": "3.10.13"
  }
 },
 "nbformat": 4,
 "nbformat_minor": 2
}
