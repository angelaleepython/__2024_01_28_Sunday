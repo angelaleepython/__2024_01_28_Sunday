{
 "cells": [
  {
   "cell_type": "code",
   "execution_count": 1,
   "metadata": {},
   "outputs": [
    {
     "data": {
      "text/plain": [
       "''"
      ]
     },
     "execution_count": 1,
     "metadata": {},
     "output_type": "execute_result"
    }
   ],
   "source": [
    "name=input(\"Angela\")\n",
    "name"
   ]
  },
  {
   "cell_type": "code",
   "execution_count": 6,
   "metadata": {},
   "outputs": [
    {
     "data": {
      "text/plain": [
       "'Angela'"
      ]
     },
     "execution_count": 6,
     "metadata": {},
     "output_type": "execute_result"
    }
   ],
   "source": [
    "name=input(\"請輸入您的姓名\")\n",
    "name"
   ]
  },
  {
   "cell_type": "code",
   "execution_count": 10,
   "metadata": {},
   "outputs": [
    {
     "data": {
      "text/plain": [
       "3.14159"
      ]
     },
     "execution_count": 10,
     "metadata": {},
     "output_type": "execute_result"
    }
   ],
   "source": [
    "num3=float(input(\"請輸入整數或浮點數\"))\n",
    "num3"
   ]
  },
  {
   "cell_type": "code",
   "execution_count": 15,
   "metadata": {},
   "outputs": [
    {
     "data": {
      "text/plain": [
       "float"
      ]
     },
     "execution_count": 15,
     "metadata": {},
     "output_type": "execute_result"
    }
   ],
   "source": [
    "num4=eval(input(\"請輸入整數或浮點數\"))\n",
    "type(num4)"
   ]
  },
  {
   "cell_type": "code",
   "execution_count": 3,
   "metadata": {},
   "outputs": [
    {
     "name": "stdout",
     "output_type": "stream",
     "text": [
      "您的身高:165公分\n",
      "您的體重:70公分\n",
      "您的BMI:25.71\n"
     ]
    }
   ],
   "source": [
    "#BMI計算公式 BMI=體重(公斤)/身高2(公分2)\n",
    "height=eval(input(\"請輸入身高(公分):\"))\n",
    "weight=eval(input(\"請輸入體重(公斤):\"))\n",
    "bmi=weight/(height/100)**2\n",
    "print('您的身高:',height,'公分', sep='')\n",
    "print('您的體重:',weight,'公分', sep='')\n",
    "print('您的BMI:',round(bmi,ndigits=2),sep='')"
   ]
  },
  {
   "cell_type": "code",
   "execution_count": 4,
   "metadata": {},
   "outputs": [
    {
     "name": "stdout",
     "output_type": "stream",
     "text": [
      "您的身高:165公分\n",
      "您的體重:70公分\n",
      "您的BMI:25.71\n"
     ]
    }
   ],
   "source": [
    "#利用字串插補\n",
    "height=eval(input(\"請輸入身高(公分):\"))\n",
    "weight=eval(input(\"請輸入體重(公斤):\"))\n",
    "bmi=weight/(height/100)**2\n",
    "print(f'您的身高:{height}公分')\n",
    "print(f'您的體重:{weight}公分')\n",
    "print(f'您的BMI:{round(bmi,ndigits=2)}')"
   ]
  },
  {
   "cell_type": "code",
   "execution_count": 6,
   "metadata": {},
   "outputs": [
    {
     "name": "stdout",
     "output_type": "stream",
     "text": [
      "您的身高:165公分\n",
      "您的體重:70公分\n",
      "您的BMI:25.71\n"
     ]
    }
   ],
   "source": [
    "height=eval(input(\"請輸入身高(公分):\"))\n",
    "weight=eval(input(\"請輸入體重(公斤):\"))\n",
    "bmi=weight/(height/100)**2\n",
    "print(f'您的身高:{height}公分')\n",
    "print(f'您的體重:{weight}公分')\n",
    "print(f'您的BMI:{bmi:.2f}')"
   ]
  },
  {
   "cell_type": "code",
   "execution_count": 7,
   "metadata": {},
   "outputs": [
    {
     "name": "stdout",
     "output_type": "stream",
     "text": [
      "上底5公分\n",
      "下底10公分\n",
      "高2公分\n",
      "面積是:15.00平方公分\n"
     ]
    }
   ],
   "source": [
    "#梯形面積公式:(上底+下底)*高/2\n",
    "上底=eval(input(\"上 底公分\"))\n",
    "下底=eval(input(\"下 底公分\"))\n",
    "高=eval(input(\"高 公分\"))\n",
    "梯形面積=(上底+下底)*高/2\n",
    "print(f\"上底{上底}公分\")\n",
    "print(f\"下底{下底}公分\")\n",
    "print(f\"高{高}公分\")\n",
    "print(f\"面積是:{梯形面積:.2f}平方公分\")"
   ]
  },
  {
   "cell_type": "code",
   "execution_count": 2,
   "metadata": {},
   "outputs": [
    {
     "name": "stdout",
     "output_type": "stream",
     "text": [
      "上底5公分\n",
      "下底10公分\n",
      "高2公分\n",
      "面積是:15.00平方公分\n"
     ]
    }
   ],
   "source": [
    "#梯形面積公式:(上底+下底)*高/2\n",
    "上底=eval(input(\"上 底公分\"))\n",
    "下底=eval(input(\"下 底公分\"))\n",
    "高=eval(input(\"高 公分\"))\n",
    "梯形面積=(上底+下底)*高/2\n",
    "print(f\"上底{上底}公分\")\n",
    "print(f\"下底{下底}公分\")\n",
    "print(f\"高{高}公分\")\n",
    "print(f\"面積是:{梯形面積:.2f}平方公分\")\n",
    "#print(result)  # 输出: 面積是:15.00平方公分"
   ]
  },
  {
   "cell_type": "code",
   "execution_count": null,
   "metadata": {},
   "outputs": [],
   "source": [
    "up=eval=(input(\"up(cm)\")\n",
    "down=eval=(input(\"down(cm)\")\n",
    "height=eval=(input(\"height(cm)\")\n",
    "area=(up+downinput(\"down(cm)\")"
   ]
  },
  {
   "cell_type": "code",
   "execution_count": null,
   "metadata": {},
   "outputs": [],
   "source": []
  }
 ],
 "metadata": {
  "kernelspec": {
   "display_name": "Python 3",
   "language": "python",
   "name": "python3"
  },
  "language_info": {
   "codemirror_mode": {
    "name": "ipython",
    "version": 3
   },
   "file_extension": ".py",
   "mimetype": "text/x-python",
   "name": "python",
   "nbconvert_exporter": "python",
   "pygments_lexer": "ipython3",
   "version": "3.10.13"
  }
 },
 "nbformat": 4,
 "nbformat_minor": 2
}
