{
 "cells": [
  {
   "cell_type": "code",
   "execution_count": null,
   "metadata": {},
   "outputs": [],
   "source": [
    "#驗證的方法\n",
    "#root model對應的是list\n",
    "#base model對應的是dictionary\n",
    "\n",
    "from pydantic import BaseModel, Field\n",
    "class Site (BaseModel):\n",
    "    站點=Field(alias='sitename')\n",
    "    縣市=Field(alias='country')\n",
    "    aqi=int=Field(alias='aqi')\n",
    "    pm2.5:float=Field(alias='pm2.5_avg')\n",
    "    時間:str=Field(alias='datacreationdate')\n",
    "\n",
    "class AQI(BaseModel):\n",
    "    records:list[Site]\n",
    "\n",
    "AQI.model_validate"
   ]
  },
  {
   "cell_type": "code",
   "execution_count": 4,
   "metadata": {},
   "outputs": [
    {
     "ename": "ModuleNotFoundError",
     "evalue": "No module named 'pydantic'",
     "output_type": "error",
     "traceback": [
      "\u001b[0;31m---------------------------------------------------------------------------\u001b[0m",
      "\u001b[0;31mModuleNotFoundError\u001b[0m                       Traceback (most recent call last)",
      "Cell \u001b[0;32mIn[4], line 1\u001b[0m\n\u001b[0;32m----> 1\u001b[0m \u001b[38;5;28;01mfrom\u001b[39;00m \u001b[38;5;21;01mpydantic\u001b[39;00m \u001b[38;5;28;01mimport\u001b[39;00m BaseModel,Field,field_validator\n\u001b[1;32m      3\u001b[0m \u001b[38;5;28;01mclass\u001b[39;00m \u001b[38;5;21;01mSite\u001b[39;00m(BaseModel):\n\u001b[1;32m      4\u001b[0m     站點:\u001b[38;5;28mstr\u001b[39m \u001b[38;5;241m=\u001b[39m Field(alias\u001b[38;5;241m=\u001b[39m\u001b[38;5;124m'\u001b[39m\u001b[38;5;124msitename\u001b[39m\u001b[38;5;124m'\u001b[39m)\n",
      "\u001b[0;31mModuleNotFoundError\u001b[0m: No module named 'pydantic'"
     ]
    }
   ],
   "source": [
    "from pydantic import BaseModel,Field,field_validator\n",
    "\n",
    "class Site(BaseModel):\n",
    "    站點:str = Field(alias='sitename')\n",
    "    縣市:str = Field(alias='county')\n",
    "    aqi:int = Field(alias='aqi')\n",
    "    pm25:float = Field(alias='pm2.5_avg')\n",
    "    時間:str = Field(alias='datacreationdate')\n",
    "\n",
    "    @field_validator('pm25',mode='before')\n",
    "    @classmethod\n",
    "    def space_zeor(cls,value):\n",
    "        #print(type(value))\n",
    "        if value == '':\n",
    "            return '0.0'\n",
    "        return value\n",
    "\n",
    "\n",
    "class AQI(BaseModel):\n",
    "    records:list[Site]"
   ]
  },
  {
   "cell_type": "code",
   "execution_count": 5,
   "metadata": {},
   "outputs": [
    {
     "ename": "NameError",
     "evalue": "name 'AQI' is not defined",
     "output_type": "error",
     "traceback": [
      "\u001b[0;31m---------------------------------------------------------------------------\u001b[0m",
      "\u001b[0;31mNameError\u001b[0m                                 Traceback (most recent call last)",
      "Cell \u001b[0;32mIn[5], line 1\u001b[0m\n\u001b[0;32m----> 1\u001b[0m \u001b[43mAQI\u001b[49m\u001b[38;5;241m.\u001b[39mmodel_validate(data_base)\n",
      "\u001b[0;31mNameError\u001b[0m: name 'AQI' is not defined"
     ]
    }
   ],
   "source": [
    "AQI.model_validate(data_base)"
   ]
  },
  {
   "cell_type": "code",
   "execution_count": 6,
   "metadata": {},
   "outputs": [
    {
     "ename": "NameError",
     "evalue": "name 'AQI' is not defined",
     "output_type": "error",
     "traceback": [
      "\u001b[0;31m---------------------------------------------------------------------------\u001b[0m",
      "\u001b[0;31mNameError\u001b[0m                                 Traceback (most recent call last)",
      "Cell \u001b[0;32mIn[6], line 1\u001b[0m\n\u001b[0;32m----> 1\u001b[0m aqi \u001b[38;5;241m=\u001b[39m \u001b[43mAQI\u001b[49m\u001b[38;5;241m.\u001b[39mmodel_validate_json(data_json)\n\u001b[1;32m      2\u001b[0m source_data \u001b[38;5;241m=\u001b[39m aqi\u001b[38;5;241m.\u001b[39mmodel_dump()[\u001b[38;5;124m'\u001b[39m\u001b[38;5;124mrecords\u001b[39m\u001b[38;5;124m'\u001b[39m]\n\u001b[1;32m      3\u001b[0m source_data\n",
      "\u001b[0;31mNameError\u001b[0m: name 'AQI' is not defined"
     ]
    }
   ],
   "source": [
    "aqi = AQI.model_validate_json(data_json)\n",
    "source_data = aqi.model_dump()['records']\n",
    "source_data"
   ]
  },
  {
   "cell_type": "code",
   "execution_count": 7,
   "metadata": {},
   "outputs": [
    {
     "ename": "NameError",
     "evalue": "name 'source_data' is not defined",
     "output_type": "error",
     "traceback": [
      "\u001b[0;31m---------------------------------------------------------------------------\u001b[0m",
      "\u001b[0;31mNameError\u001b[0m                                 Traceback (most recent call last)",
      "Cell \u001b[0;32mIn[7], line 2\u001b[0m\n\u001b[1;32m      1\u001b[0m \u001b[38;5;28;01mimport\u001b[39;00m \u001b[38;5;21;01mpandas\u001b[39;00m \u001b[38;5;28;01mas\u001b[39;00m \u001b[38;5;21;01mpd\u001b[39;00m\n\u001b[0;32m----> 2\u001b[0m df1 \u001b[38;5;241m=\u001b[39m pd\u001b[38;5;241m.\u001b[39mDataFrame(\u001b[43msource_data\u001b[49m)\n\u001b[1;32m      3\u001b[0m df1\n",
      "\u001b[0;31mNameError\u001b[0m: name 'source_data' is not defined"
     ]
    }
   ],
   "source": [
    "import pandas as pd\n",
    "df1 = pd.DataFrame(source_data)\n",
    "df1"
   ]
  },
  {
   "cell_type": "code",
   "execution_count": null,
   "metadata": {},
   "outputs": [],
   "source": []
  }
 ],
 "metadata": {
  "kernelspec": {
   "display_name": "Python 3",
   "language": "python",
   "name": "python3"
  },
  "language_info": {
   "codemirror_mode": {
    "name": "ipython",
    "version": 3
   },
   "file_extension": ".py",
   "mimetype": "text/x-python",
   "name": "python",
   "nbconvert_exporter": "python",
   "pygments_lexer": "ipython3",
   "version": "3.10.13"
  }
 },
 "nbformat": 4,
 "nbformat_minor": 2
}
