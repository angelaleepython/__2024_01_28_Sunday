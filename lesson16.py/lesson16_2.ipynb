{
 "cells": [
  {
   "cell_type": "code",
   "execution_count": null,
   "metadata": {},
   "outputs": [],
   "source": [
    "#把下載的資料轉成rootmodel\n",
    "#model_dump(實體方法):python的資料結構\n",
    "csv_root=Student.model_validate(csv_data)\n",
    "\n"
   ]
  },
  {
   "cell_type": "code",
   "execution_count": null,
   "metadata": {},
   "outputs": [],
   "source": [
    "#model_dump(實體方法):python的資料結構\n",
    "import pandas as pd\n",
    "data=csv_root.model_dump()\n",
    "df1=pd.DataFram(data)\n",
    "df1\n",
    "\n"
   ]
  },
  {
   "cell_type": "code",
   "execution_count": null,
   "metadata": {},
   "outputs": [],
   "source": [
    "import pandas as pd\n",
    "data=csv_root.model_dump()\n",
    "df1=pd.DataFram(data)\n",
    "df1\n"
   ]
  },
  {
   "cell_type": "code",
   "execution_count": 4,
   "metadata": {},
   "outputs": [
    {
     "ename": "ModuleNotFoundError",
     "evalue": "No module named 'requests'",
     "output_type": "error",
     "traceback": [
      "\u001b[0;31m---------------------------------------------------------------------------\u001b[0m",
      "\u001b[0;31mModuleNotFoundError\u001b[0m                       Traceback (most recent call last)",
      "Cell \u001b[0;32mIn[4], line 1\u001b[0m\n\u001b[0;32m----> 1\u001b[0m \u001b[38;5;28;01mimport\u001b[39;00m \u001b[38;5;21;01mrequests\u001b[39;00m\n\u001b[1;32m      2\u001b[0m \u001b[38;5;28;01mfrom\u001b[39;00m \u001b[38;5;21;01mpydantic\u001b[39;00m \u001b[38;5;28;01mimport\u001b[39;00m BaseModel,Field,RootModel\n\u001b[1;32m      3\u001b[0m \u001b[38;5;28;01mimport\u001b[39;00m \u001b[38;5;21;01mio\u001b[39;00m\n",
      "\u001b[0;31mModuleNotFoundError\u001b[0m: No module named 'requests'"
     ]
    }
   ],
   "source": [
    "import requests\n",
    "from pydantic import BaseModel,Field,RootModel\n",
    "import io\n",
    "import csv\n",
    "\n",
    "csv_url = 'https://raw.githubusercontent.com/roberthsu2003/python/master/pydantic/%E5%AD%B8%E7%94%9F%E5%88%86%E6%95%B8.csv'\n",
    "res = requests.get(url=csv_url)\n",
    "if res.ok:\n",
    "    print('下載成功')\n",
    "else:\n",
    "    print('下載失敗')\n",
    "\n",
    "class Scores(BaseModel):\n",
    "    姓名:str\n",
    "    國文:int = Field(alias='科目1')\n",
    "    英文:int = Field(alias='科目2')\n",
    "    數學:int = Field(alias='科目3')\n",
    "    地理:int = Field(alias='科目4')\n",
    "    歷史:int = Field(alias='科目5')\n",
    "  \n",
    "class Student(RootModel):\n",
    "    root:list[Scores]\n",
    "\n",
    "    def __iter__(self):\n",
    "        return iter(self.root)\n",
    "\n",
    "    def __getitem__(self, item):\n",
    "        return self.root[item]\n",
    "    \n",
    "csv_url:str = res.text\n",
    "csv_file = io.StringIO(csv_url)\n",
    "dict_reader = csv.DictReader(csv_file)\n",
    "csv_data = list(dict_reader)\n",
    "csv_root = Student.model_validate(csv_data)"
   ]
  }
 ],
 "metadata": {
  "kernelspec": {
   "display_name": "Python 3",
   "language": "python",
   "name": "python3"
  },
  "language_info": {
   "codemirror_mode": {
    "name": "ipython",
    "version": 3
   },
   "file_extension": ".py",
   "mimetype": "text/x-python",
   "name": "python",
   "nbconvert_exporter": "python",
   "pygments_lexer": "ipython3",
   "version": "3.10.13"
  }
 },
 "nbformat": 4,
 "nbformat_minor": 2
}
