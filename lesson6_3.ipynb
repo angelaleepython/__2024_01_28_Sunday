{
 "cells": [
  {
   "cell_type": "code",
   "execution_count": 1,
   "metadata": {},
   "outputs": [
    {
     "name": "stdout",
     "output_type": "stream",
     "text": [
      "請輸入身高(公分,120-250):190\n",
      "在120-250之間\n"
     ]
    }
   ],
   "source": [
    "import pyinputplus as pyip\n",
    "height=pyip.inputInt(\"請輸入身高(公分,120-250):\")\n",
    "print(height)\n",
    "\n",
    "if height>=120 and height<=250:\n",
    "    print(\"在120-250之間\")\n",
    "else:\n",
    "    print(\"不在範圍之內\")"
   ]
  },
  {
   "cell_type": "code",
   "execution_count": 2,
   "metadata": {},
   "outputs": [
    {
     "name": "stdout",
     "output_type": "stream",
     "text": [
      "請輸入身高(公分,120-250):190\n",
      "在120-250之間\n"
     ]
    }
   ],
   "source": [
    "import pyinputplus as pyip\n",
    "height=pyip.inputInt(\"請輸入身高(公分,120-250):\")\n",
    "print(height)\n",
    "\n",
    "if height<120 or height>250:\n",
    "     print(\"不在範圍之內\")\n",
    "else:\n",
    "    print(\"在120-250之間\")"
   ]
  },
  {
   "cell_type": "code",
   "execution_count": 3,
   "metadata": {},
   "outputs": [
    {
     "name": "stdout",
     "output_type": "stream",
     "text": [
      "請輸入身高(公分,120-250):Blank values are not allowed.\n",
      "請輸入身高(公分,120-250):Blank values are not allowed.\n",
      "請輸入身高(公分,120-250):Blank values are not allowed.\n",
      "請輸入身高(公分,120-250):Blank values are not allowed.\n",
      "請輸入身高(公分,120-250):90\n",
      "不在範圍之內\n"
     ]
    }
   ],
   "source": [
    "import pyinputplus as pyip\n",
    "height=pyip.inputInt(\"請輸入身高(公分,120-250):\")\n",
    "print(height)\n",
    "\n",
    "if height<120 or height>250:\n",
    "     print(\"不在範圍之內\")\n",
    "else:\n",
    "    print(\"在120-250之間\")"
   ]
  },
  {
   "cell_type": "code",
   "execution_count": 5,
   "metadata": {},
   "outputs": [
    {
     "name": "stdout",
     "output_type": "stream",
     "text": [
      "請輸入身高(公分,120-250):250\n",
      "在120-250之間\n"
     ]
    }
   ],
   "source": [
    "import pyinputplus as pyip\n",
    "height=pyip.inputInt(\"請輸入身高(公分,120-250):\")\n",
    "print(height)\n",
    "\n",
    "if not (height<120 or height>250):\n",
    "     print(\"在120-250之間\")\n",
    "else:\n",
    "     print(\"不在範圍之內\")"
   ]
  }
 ],
 "metadata": {
  "kernelspec": {
   "display_name": "Python 3",
   "language": "python",
   "name": "python3"
  },
  "language_info": {
   "codemirror_mode": {
    "name": "ipython",
    "version": 3
   },
   "file_extension": ".py",
   "mimetype": "text/x-python",
   "name": "python",
   "nbconvert_exporter": "python",
   "pygments_lexer": "ipython3",
   "version": "3.10.13"
  }
 },
 "nbformat": 4,
 "nbformat_minor": 2
}
