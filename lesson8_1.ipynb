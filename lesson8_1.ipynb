{
 "cells": [
  {
   "cell_type": "code",
   "execution_count": 3,
   "metadata": {},
   "outputs": [
    {
     "name": "stdout",
     "output_type": "stream",
     "text": [
      "==猜數字遊戲===\n",
      "\n",
      "\n",
      "要猜的數字是24\n"
     ]
    }
   ],
   "source": [
    "import random\n",
    "\n",
    "min=1\n",
    "max=100\n",
    "guess=random.randint(min,max)\n",
    "guess\n",
    "\n",
    "print(\"==猜數字遊戲===\\n\\n\")\n",
    "print(f'要猜的數字是{guess}')\n",
    "\n",
    "      "
   ]
  },
  {
   "cell_type": "code",
   "execution_count": 7,
   "metadata": {},
   "outputs": [
    {
     "ename": "SyntaxError",
     "evalue": "expected 'except' or 'finally' block (2699117935.py, line 17)",
     "output_type": "error",
     "traceback": [
      "\u001b[0;36m  Cell \u001b[0;32mIn[7], line 17\u001b[0;36m\u001b[0m\n\u001b[0;31m    else:\u001b[0m\n\u001b[0m    ^\u001b[0m\n\u001b[0;31mSyntaxError\u001b[0m\u001b[0;31m:\u001b[0m expected 'except' or 'finally' block\n"
     ]
    }
   ],
   "source": [
    "import random\n",
    "\n",
    "min=1\n",
    "max=100\n",
    "guess=random.randint(min,max)\n",
    "count=0\n",
    "\n",
    "\n",
    "print(\"==猜數字遊戲===\\n\\n\")\n",
    "print(f'要猜的數字是{guess}')\n",
    "while(True):\n",
    "    try:\n",
    "        keyin=int(input(f\"猜數字範圍{min}~{max}\"))\n",
    "        if(max>= keyin >=min):\n",
    "            print(\"範圍內\")\n",
    "            break\n",
    "    else:\n",
    "    print(\"超出範圍\")\n",
    "\n",
    "except:\n",
    "    print(\"輸入的格式錯誤\")\n",
    "    count+=1\n",
    "    print(f\"您已經猜了{count}次\")\n",
    "print(\"遊戲結束\")\n",
    "\n",
    "\n",
    "\n"
   ]
  },
  {
   "cell_type": "code",
   "execution_count": 18,
   "metadata": {},
   "outputs": [
    {
     "name": "stdout",
     "output_type": "stream",
     "text": [
      "============猜數字遊戲============\n",
      "\n",
      "\n",
      "您已經猜了1次\n",
      "您已經猜了2次\n",
      "您已經猜了3次\n",
      "您已經猜了4次\n",
      "您已經猜了5次\n",
      "您已經猜了6次\n",
      "您已經猜了7次\n",
      "您已經猜了8次\n",
      "您已經猜了9次\n",
      "您已經猜了10次\n",
      "您已經猜了11次\n",
      "您已經猜了12次\n",
      "您已經猜了13次\n",
      "您已經猜了14次\n",
      "您已經猜了15次\n",
      "您已經猜了16次\n",
      "您已經猜了17次\n"
     ]
    }
   ],
   "source": [
    "import random\n",
    "\n",
    "min = 1\n",
    "max = 100\n",
    "guess = random.randint(min,max)\n",
    "count = 0\n",
    "\n",
    "print(\"============猜數字遊戲============\\n\\n\")\n",
    "#print(f'要猜的數字是{guess}')\n",
    "while(True):\n",
    "    try:\n",
    "        keyin = int(input(f\"猜數字範圍{min}~{max}\"))\n",
    "        count+=1\n",
    "        if max >= keyin >=min:\n",
    "           if keyin==guess:\n",
    "            print(f\"賓果 猜對了 答案是:{guess}\")\n",
    "            print(f\"您猜了{count}次\")\n",
    "            break\n",
    "        elif keyin>guess:\n",
    "            print(\"再小一點\")\n",
    "            max=keyin-1\n",
    "\n",
    "        elif keyin<guess:\n",
    "            print(f\"再大一點\")\n",
    "            min=keyin+1\n",
    "\n",
    "        else:\n",
    "            print(\"超出範圍\")\n",
    "                    \n",
    "    except:\n",
    "        print(\"輸入的格式錯誤\")\n",
    "        count += 1\n",
    "        \n",
    "    print(f\"您已經猜了{count}次\")\n",
    "print(\"遊戲結束\")"
   ]
  }
 ],
 "metadata": {
  "kernelspec": {
   "display_name": "Python 3",
   "language": "python",
   "name": "python3"
  },
  "language_info": {
   "codemirror_mode": {
    "name": "ipython",
    "version": 3
   },
   "file_extension": ".py",
   "mimetype": "text/x-python",
   "name": "python",
   "nbconvert_exporter": "python",
   "pygments_lexer": "ipython3",
   "version": "3.10.13"
  }
 },
 "nbformat": 4,
 "nbformat_minor": 2
}
